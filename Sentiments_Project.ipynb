{
 "cells": [
  {
   "cell_type": "markdown",
   "id": "8184cae5",
   "metadata": {},
   "source": [
    "# **Table of Contents**\n",
    "- Objective\n",
    "- Data Cleaning and Preprocessing \n",
    "- Exploratory Data Analysis (EDA)\n",
    "- Predictive Modelling (Regression)\n",
    "- Classification with Logistic Regression \n",
    "- Clustering (Un-Supervised Learning)\n",
    "- Natural Language Processing (Text Classification)\n",
    "- Neural Network with Tensorflow and Keras "
   ]
  },
  {
   "cell_type": "markdown",
   "id": "3860d022",
   "metadata": {},
   "source": [
    "# **1- Objective** \n",
    "\n",
    "#### The objective of this project is to perform a comprehensive sentiment analysis on a text-based dataset by applying a complete data science workflow. This includes cleaning and preprocessing raw social media data, conducting exploratory data analysis (EDA) to extract insights, and building predictive models using supervised learning techniques (regression and classification) to identify patterns in sentiment behavior. Additionally, unsupervised learning techniques such as clustering will be utilized to uncover hidden structures within the data. The final goal is to generate actionable insights and build robust,providing value for real-world decision-making in digital content analysis."
   ]
  },
  {
   "cell_type": "code",
   "execution_count": null,
   "id": "95eb0847",
   "metadata": {},
   "outputs": [
    {
     "name": "stdout",
     "output_type": "stream",
     "text": [
      "CPU times: total: 0 ns\n",
      "Wall time: 0 ns\n"
     ]
    }
   ],
   "source": [
    "## Adding time \n",
    "%time\n",
    "\n",
    "## Importing libraries\n",
    "import pandas as pd\n",
    "import numpy as np\n",
    "import matplotlib.pyplot as plt\n",
    "import seaborn as sns\n",
    "from sklearn.preprocessing import LabelEncoder\n",
    "from sklearn.preprocessing import StandardScaler    \n",
    "from sklearn.model_selection import train_test_split\n",
    "from sklearn.linear_model import LinearRegression\n",
    "from sklearn.metrics import mean_squared_error, r2_score\n",
    "from sklearn.tree import DecisionTreeRegressor\n",
    "from sklearn.ensemble import RandomForestRegressor\n",
    "from sklearn.ensemble import RandomForestClassifier\n",
    "from sklearn.linear_model import LogisticRegression\n",
    "from sklearn.metrics import accuracy_score, precision_score , recall_score\n",
    "from sklearn.cluster import KMeans\n",
    "from sklearn.decomposition import PCA\n",
    "from sklearn.metrics import mean_squared_error\n",
    "import nltk\n",
    "import tensorflow as tf\n",
    "\n"
   ]
  },
  {
   "cell_type": "code",
   "execution_count": 60,
   "id": "f69b713a",
   "metadata": {},
   "outputs": [
    {
     "name": "stdout",
     "output_type": "stream",
     "text": [
      "CPU times: total: 0 ns\n",
      "Wall time: 0 ns\n"
     ]
    },
    {
     "data": {
      "text/html": [
       "<div>\n",
       "<style scoped>\n",
       "    .dataframe tbody tr th:only-of-type {\n",
       "        vertical-align: middle;\n",
       "    }\n",
       "\n",
       "    .dataframe tbody tr th {\n",
       "        vertical-align: top;\n",
       "    }\n",
       "\n",
       "    .dataframe thead th {\n",
       "        text-align: right;\n",
       "    }\n",
       "</style>\n",
       "<table border=\"1\" class=\"dataframe\">\n",
       "  <thead>\n",
       "    <tr style=\"text-align: right;\">\n",
       "      <th></th>\n",
       "      <th>Unnamed: 0.1</th>\n",
       "      <th>Unnamed: 0</th>\n",
       "      <th>Text</th>\n",
       "      <th>Sentiment</th>\n",
       "      <th>Timestamp</th>\n",
       "      <th>User</th>\n",
       "      <th>Platform</th>\n",
       "      <th>Hashtags</th>\n",
       "      <th>Retweets</th>\n",
       "      <th>Likes</th>\n",
       "      <th>Country</th>\n",
       "      <th>Year</th>\n",
       "      <th>Month</th>\n",
       "      <th>Day</th>\n",
       "      <th>Hour</th>\n",
       "    </tr>\n",
       "  </thead>\n",
       "  <tbody>\n",
       "    <tr>\n",
       "      <th>0</th>\n",
       "      <td>0</td>\n",
       "      <td>0</td>\n",
       "      <td>Enjoying a beautiful day at the park!        ...</td>\n",
       "      <td>Positive</td>\n",
       "      <td>2023-01-15 12:30:00</td>\n",
       "      <td>User123</td>\n",
       "      <td>Twitter</td>\n",
       "      <td>#Nature #Park</td>\n",
       "      <td>15.0</td>\n",
       "      <td>30.0</td>\n",
       "      <td>USA</td>\n",
       "      <td>2023</td>\n",
       "      <td>1</td>\n",
       "      <td>15</td>\n",
       "      <td>12</td>\n",
       "    </tr>\n",
       "    <tr>\n",
       "      <th>1</th>\n",
       "      <td>1</td>\n",
       "      <td>1</td>\n",
       "      <td>Traffic was terrible this morning.           ...</td>\n",
       "      <td>Negative</td>\n",
       "      <td>2023-01-15 08:45:00</td>\n",
       "      <td>CommuterX</td>\n",
       "      <td>Twitter</td>\n",
       "      <td>#Traffic #Morning</td>\n",
       "      <td>5.0</td>\n",
       "      <td>10.0</td>\n",
       "      <td>Canada</td>\n",
       "      <td>2023</td>\n",
       "      <td>1</td>\n",
       "      <td>15</td>\n",
       "      <td>8</td>\n",
       "    </tr>\n",
       "    <tr>\n",
       "      <th>2</th>\n",
       "      <td>2</td>\n",
       "      <td>2</td>\n",
       "      <td>Just finished an amazing workout! 💪          ...</td>\n",
       "      <td>Positive</td>\n",
       "      <td>2023-01-15 15:45:00</td>\n",
       "      <td>FitnessFan</td>\n",
       "      <td>Instagram</td>\n",
       "      <td>#Fitness #Workout</td>\n",
       "      <td>20.0</td>\n",
       "      <td>40.0</td>\n",
       "      <td>USA</td>\n",
       "      <td>2023</td>\n",
       "      <td>1</td>\n",
       "      <td>15</td>\n",
       "      <td>15</td>\n",
       "    </tr>\n",
       "    <tr>\n",
       "      <th>3</th>\n",
       "      <td>3</td>\n",
       "      <td>3</td>\n",
       "      <td>Excited about the upcoming weekend getaway!  ...</td>\n",
       "      <td>Positive</td>\n",
       "      <td>2023-01-15 18:20:00</td>\n",
       "      <td>AdventureX</td>\n",
       "      <td>Facebook</td>\n",
       "      <td>#Travel #Adventure</td>\n",
       "      <td>8.0</td>\n",
       "      <td>15.0</td>\n",
       "      <td>UK</td>\n",
       "      <td>2023</td>\n",
       "      <td>1</td>\n",
       "      <td>15</td>\n",
       "      <td>18</td>\n",
       "    </tr>\n",
       "    <tr>\n",
       "      <th>4</th>\n",
       "      <td>4</td>\n",
       "      <td>4</td>\n",
       "      <td>Trying out a new recipe for dinner tonight.  ...</td>\n",
       "      <td>Neutral</td>\n",
       "      <td>2023-01-15 19:55:00</td>\n",
       "      <td>ChefCook</td>\n",
       "      <td>Instagram</td>\n",
       "      <td>#Cooking #Food</td>\n",
       "      <td>12.0</td>\n",
       "      <td>25.0</td>\n",
       "      <td>Australia</td>\n",
       "      <td>2023</td>\n",
       "      <td>1</td>\n",
       "      <td>15</td>\n",
       "      <td>19</td>\n",
       "    </tr>\n",
       "  </tbody>\n",
       "</table>\n",
       "</div>"
      ],
      "text/plain": [
       "   Unnamed: 0.1  Unnamed: 0  \\\n",
       "0             0           0   \n",
       "1             1           1   \n",
       "2             2           2   \n",
       "3             3           3   \n",
       "4             4           4   \n",
       "\n",
       "                                                Text    Sentiment  \\\n",
       "0   Enjoying a beautiful day at the park!        ...   Positive     \n",
       "1   Traffic was terrible this morning.           ...   Negative     \n",
       "2   Just finished an amazing workout! 💪          ...   Positive     \n",
       "3   Excited about the upcoming weekend getaway!  ...   Positive     \n",
       "4   Trying out a new recipe for dinner tonight.  ...   Neutral      \n",
       "\n",
       "             Timestamp            User     Platform  \\\n",
       "0  2023-01-15 12:30:00   User123          Twitter     \n",
       "1  2023-01-15 08:45:00   CommuterX        Twitter     \n",
       "2  2023-01-15 15:45:00   FitnessFan      Instagram    \n",
       "3  2023-01-15 18:20:00   AdventureX       Facebook    \n",
       "4  2023-01-15 19:55:00   ChefCook        Instagram    \n",
       "\n",
       "                                     Hashtags  Retweets  Likes       Country  \\\n",
       "0   #Nature #Park                                  15.0   30.0     USA         \n",
       "1   #Traffic #Morning                               5.0   10.0     Canada      \n",
       "2   #Fitness #Workout                              20.0   40.0   USA           \n",
       "3   #Travel #Adventure                              8.0   15.0     UK          \n",
       "4   #Cooking #Food                                 12.0   25.0    Australia    \n",
       "\n",
       "   Year  Month  Day  Hour  \n",
       "0  2023      1   15    12  \n",
       "1  2023      1   15     8  \n",
       "2  2023      1   15    15  \n",
       "3  2023      1   15    18  \n",
       "4  2023      1   15    19  "
      ]
     },
     "execution_count": 60,
     "metadata": {},
     "output_type": "execute_result"
    }
   ],
   "source": [
    "%time\n",
    "\n",
    "## Uploading the dataset \n",
    "df=pd.read_csv(r'D:\\abiha\\Data Science\\3) Sentiment dataset.csv')\n",
    "df.head()\n"
   ]
  },
  {
   "cell_type": "code",
   "execution_count": 3,
   "id": "35ca28db",
   "metadata": {},
   "outputs": [
    {
     "name": "stdout",
     "output_type": "stream",
     "text": [
      "CPU times: total: 0 ns\n",
      "Wall time: 0 ns\n",
      "<class 'pandas.core.frame.DataFrame'>\n",
      "RangeIndex: 732 entries, 0 to 731\n",
      "Data columns (total 15 columns):\n",
      " #   Column        Non-Null Count  Dtype  \n",
      "---  ------        --------------  -----  \n",
      " 0   Unnamed: 0.1  732 non-null    int64  \n",
      " 1   Unnamed: 0    732 non-null    int64  \n",
      " 2   Text          732 non-null    object \n",
      " 3   Sentiment     732 non-null    object \n",
      " 4   Timestamp     732 non-null    object \n",
      " 5   User          732 non-null    object \n",
      " 6   Platform      732 non-null    object \n",
      " 7   Hashtags      732 non-null    object \n",
      " 8   Retweets      732 non-null    float64\n",
      " 9   Likes         732 non-null    float64\n",
      " 10  Country       732 non-null    object \n",
      " 11  Year          732 non-null    int64  \n",
      " 12  Month         732 non-null    int64  \n",
      " 13  Day           732 non-null    int64  \n",
      " 14  Hour          732 non-null    int64  \n",
      "dtypes: float64(2), int64(6), object(7)\n",
      "memory usage: 85.9+ KB\n"
     ]
    }
   ],
   "source": [
    "%time\n",
    "\n",
    "## Cheeking the info of dataset \n",
    "df.info()"
   ]
  },
  {
   "cell_type": "code",
   "execution_count": 4,
   "id": "8a1d6e24",
   "metadata": {},
   "outputs": [
    {
     "name": "stdout",
     "output_type": "stream",
     "text": [
      "CPU times: total: 0 ns\n",
      "Wall time: 0 ns\n"
     ]
    },
    {
     "data": {
      "text/plain": [
       "732"
      ]
     },
     "execution_count": 4,
     "metadata": {},
     "output_type": "execute_result"
    }
   ],
   "source": [
    "%time \n",
    "\n",
    "## Checking the length of dataset \n",
    "len(df)"
   ]
  },
  {
   "cell_type": "code",
   "execution_count": 5,
   "id": "3150599f",
   "metadata": {},
   "outputs": [
    {
     "name": "stdout",
     "output_type": "stream",
     "text": [
      "CPU times: total: 0 ns\n",
      "Wall time: 0 ns\n",
      "Index(['Unnamed: 0.1', 'Unnamed: 0', 'Text', 'Sentiment', 'Timestamp', 'User',\n",
      "       'Platform', 'Hashtags', 'Retweets', 'Likes', 'Country', 'Year', 'Month',\n",
      "       'Day', 'Hour'],\n",
      "      dtype='object')\n"
     ]
    }
   ],
   "source": [
    "%time \n",
    "\n",
    "##Printing sentiment columns names \n",
    "print(df.columns)"
   ]
  },
  {
   "cell_type": "markdown",
   "id": "f4cac2cc",
   "metadata": {},
   "source": [
    "# **2- Data Cleaning and Preprocessing**"
   ]
  },
  {
   "cell_type": "markdown",
   "id": "86b816a9",
   "metadata": {},
   "source": [
    "### 2.1- Handling the Missing Values\n"
   ]
  },
  {
   "cell_type": "code",
   "execution_count": 6,
   "id": "8406660c",
   "metadata": {},
   "outputs": [
    {
     "name": "stdout",
     "output_type": "stream",
     "text": [
      "CPU times: total: 0 ns\n",
      "Wall time: 0 ns\n",
      "Unnamed: 0.1    0\n",
      "Unnamed: 0      0\n",
      "Text            0\n",
      "Sentiment       0\n",
      "Timestamp       0\n",
      "User            0\n",
      "Platform        0\n",
      "Hashtags        0\n",
      "Retweets        0\n",
      "Likes           0\n",
      "Country         0\n",
      "Year            0\n",
      "Month           0\n",
      "Day             0\n",
      "Hour            0\n",
      "dtype: int64\n",
      "We can see that there are no missing values in the dataset\n"
     ]
    }
   ],
   "source": [
    "%time \n",
    "\n",
    "## Checking the missing values in stock data set \n",
    "print(df.isnull().sum())\n",
    "print(\"We can see that there are no missing values in the dataset\")"
   ]
  },
  {
   "cell_type": "markdown",
   "id": "7599f3b9",
   "metadata": {},
   "source": [
    "### 2.2- Detecting and Removing Outliers "
   ]
  },
  {
   "cell_type": "code",
   "execution_count": 7,
   "id": "717f8bfb",
   "metadata": {},
   "outputs": [
    {
     "name": "stdout",
     "output_type": "stream",
     "text": [
      "CPU times: total: 0 ns\n",
      "Wall time: 0 ns\n",
      "Rows before: 732\n",
      "Rows after cleaning: 732\n"
     ]
    }
   ],
   "source": [
    "%time \n",
    "\n",
    "def remove_outliers_iqr(data, column):\n",
    "    Q1 = data[column].quantile(0.25)\n",
    "    Q3 = data[column].quantile(0.75)\n",
    "    IQR = Q3 - Q1\n",
    "    lower_bound = Q1 - 1.5 * IQR\n",
    "    upper_bound = Q3 + 1.5 * IQR\n",
    "    cleaned_data = data[(data[column] >= lower_bound) & (data[column] <= upper_bound)]\n",
    "    return cleaned_data\n",
    "\n",
    "# Apply outlier removal to Likes and Retweets\n",
    "df_no_outliers = remove_outliers_iqr(df, 'Likes')\n",
    "df_no_outliers = remove_outliers_iqr(df_no_outliers, 'Retweets')\n",
    "\n",
    "# Check how many rows were removed\n",
    "print(\"Rows before:\", len(df))\n",
    "print(\"Rows after cleaning:\", len(df))"
   ]
  },
  {
   "cell_type": "code",
   "execution_count": 8,
   "id": "a4f4c145",
   "metadata": {},
   "outputs": [
    {
     "name": "stdout",
     "output_type": "stream",
     "text": [
      "CPU times: total: 0 ns\n",
      "Wall time: 0 ns\n"
     ]
    },
    {
     "data": {
      "image/png": "[encoded data removed]",
      "text/plain": [
       "<Figure size 1000x500 with 2 Axes>"
      ]
     },
     "metadata": {},
     "output_type": "display_data"
    }
   ],
   "source": [
    "%time \n",
    "\n",
    "## Visualizing the Result of Outliers \n",
    "plt.figure(figsize=(10, 5))\n",
    "\n",
    "plt.subplot(1, 2, 1)\n",
    "sns.boxplot(data=df, x='Likes')\n",
    "plt.title('Likes - Boxplot')\n",
    "\n",
    "plt.subplot(1, 2, 2)\n",
    "sns.boxplot(data=df, x='Retweets')\n",
    "plt.title('Retweets - Boxplot')\n",
    "\n",
    "plt.tight_layout()\n",
    "plt.show()"
   ]
  },
  {
   "cell_type": "markdown",
   "id": "59dc4baa",
   "metadata": {},
   "source": [
    "### 2.3- Converting Categorical data into Numerical data "
   ]
  },
  {
   "cell_type": "markdown",
   "id": "dd77086d",
   "metadata": {},
   "source": [
    "#### Using Label encoder because it is targeted"
   ]
  },
  {
   "cell_type": "code",
   "execution_count": 9,
   "id": "0dd5a368",
   "metadata": {},
   "outputs": [
    {
     "name": "stdout",
     "output_type": "stream",
     "text": [
      "CPU times: total: 0 ns\n",
      "Wall time: 0 ns\n",
      "Sentiment Encoding Table:\n"
     ]
    },
    {
     "data": {
      "text/html": [
       "<div>\n",
       "<style scoped>\n",
       "    .dataframe tbody tr th:only-of-type {\n",
       "        vertical-align: middle;\n",
       "    }\n",
       "\n",
       "    .dataframe tbody tr th {\n",
       "        vertical-align: top;\n",
       "    }\n",
       "\n",
       "    .dataframe thead th {\n",
       "        text-align: right;\n",
       "    }\n",
       "</style>\n",
       "<table border=\"1\" class=\"dataframe\">\n",
       "  <thead>\n",
       "    <tr style=\"text-align: right;\">\n",
       "      <th></th>\n",
       "      <th>Sentiment</th>\n",
       "      <th>Sentiment_Label</th>\n",
       "    </tr>\n",
       "  </thead>\n",
       "  <tbody>\n",
       "    <tr>\n",
       "      <th>0</th>\n",
       "      <td>Acceptance</td>\n",
       "      <td>0</td>\n",
       "    </tr>\n",
       "    <tr>\n",
       "      <th>1</th>\n",
       "      <td>Acceptance</td>\n",
       "      <td>1</td>\n",
       "    </tr>\n",
       "    <tr>\n",
       "      <th>2</th>\n",
       "      <td>Accomplishment</td>\n",
       "      <td>2</td>\n",
       "    </tr>\n",
       "    <tr>\n",
       "      <th>3</th>\n",
       "      <td>Admiration</td>\n",
       "      <td>3</td>\n",
       "    </tr>\n",
       "    <tr>\n",
       "      <th>4</th>\n",
       "      <td>Admiration</td>\n",
       "      <td>4</td>\n",
       "    </tr>\n",
       "    <tr>\n",
       "      <th>...</th>\n",
       "      <td>...</td>\n",
       "      <td>...</td>\n",
       "    </tr>\n",
       "    <tr>\n",
       "      <th>274</th>\n",
       "      <td>Wonder</td>\n",
       "      <td>274</td>\n",
       "    </tr>\n",
       "    <tr>\n",
       "      <th>275</th>\n",
       "      <td>Wonder</td>\n",
       "      <td>275</td>\n",
       "    </tr>\n",
       "    <tr>\n",
       "      <th>276</th>\n",
       "      <td>Wonderment</td>\n",
       "      <td>276</td>\n",
       "    </tr>\n",
       "    <tr>\n",
       "      <th>277</th>\n",
       "      <td>Yearning</td>\n",
       "      <td>277</td>\n",
       "    </tr>\n",
       "    <tr>\n",
       "      <th>278</th>\n",
       "      <td>Zest</td>\n",
       "      <td>278</td>\n",
       "    </tr>\n",
       "  </tbody>\n",
       "</table>\n",
       "<p>279 rows × 2 columns</p>\n",
       "</div>"
      ],
      "text/plain": [
       "             Sentiment  Sentiment_Label\n",
       "0        Acceptance                   0\n",
       "1     Acceptance                      1\n",
       "2      Accomplishment                 2\n",
       "3          Admiration                 3\n",
       "4        Admiration                   4\n",
       "..                 ...              ...\n",
       "274        Wonder                   274\n",
       "275      Wonder                     275\n",
       "276     Wonderment                  276\n",
       "277          Yearning               277\n",
       "278              Zest               278\n",
       "\n",
       "[279 rows x 2 columns]"
      ]
     },
     "metadata": {},
     "output_type": "display_data"
    }
   ],
   "source": [
    "%time \n",
    "\n",
    "label_encoder = LabelEncoder()\n",
    "df['Sentiment_Label'] = label_encoder.fit_transform(df['Sentiment'])\n",
    "\n",
    "sentiment_table = df[['Sentiment', 'Sentiment_Label']].drop_duplicates().sort_values('Sentiment_Label').reset_index(drop=True)\n",
    "\n",
    "# Display the table\n",
    "print(\"Sentiment Encoding Table:\")\n",
    "display(sentiment_table) "
   ]
  },
  {
   "cell_type": "markdown",
   "id": "34cad170",
   "metadata": {},
   "source": [
    "#### Using One hot encoder for the features "
   ]
  },
  {
   "cell_type": "code",
   "execution_count": 10,
   "id": "413fa090",
   "metadata": {},
   "outputs": [
    {
     "name": "stdout",
     "output_type": "stream",
     "text": [
      "CPU times: total: 0 ns\n",
      "Wall time: 0 ns\n"
     ]
    }
   ],
   "source": [
    "%time\n",
    "\n",
    "df_encoded = pd.get_dummies(df, columns=['Platform', 'Country'], drop_first=True)"
   ]
  },
  {
   "cell_type": "markdown",
   "id": "6723f2bd",
   "metadata": {},
   "source": [
    "### 2.4- Normalizing or Standardizing the Data"
   ]
  },
  {
   "cell_type": "code",
   "execution_count": 11,
   "id": "a1f7dfa9",
   "metadata": {},
   "outputs": [
    {
     "name": "stdout",
     "output_type": "stream",
     "text": [
      "CPU times: total: 0 ns\n",
      "Wall time: 0 ns\n"
     ]
    }
   ],
   "source": [
    "%time \n",
    "\n",
    "scaler = StandardScaler()\n",
    "df_encoded[['Likes', 'Retweets', 'Hour']] = scaler.fit_transform(df_encoded[['Likes', 'Retweets', 'Hour']])"
   ]
  },
  {
   "cell_type": "markdown",
   "id": "72019b39",
   "metadata": {},
   "source": [
    "# **3- Exploratory Data Analysis (EDA)**"
   ]
  },
  {
   "cell_type": "markdown",
   "id": "11a27b80",
   "metadata": {},
   "source": [
    "### 3.1- Summary Statistics "
   ]
  },
  {
   "cell_type": "code",
   "execution_count": 12,
   "id": "1f812009",
   "metadata": {},
   "outputs": [
    {
     "name": "stdout",
     "output_type": "stream",
     "text": [
      "CPU times: total: 0 ns\n",
      "Wall time: 0 ns\n",
      "<class 'pandas.core.frame.DataFrame'>\n",
      "RangeIndex: 732 entries, 0 to 731\n",
      "Data columns (total 16 columns):\n",
      " #   Column           Non-Null Count  Dtype  \n",
      "---  ------           --------------  -----  \n",
      " 0   Unnamed: 0.1     732 non-null    int64  \n",
      " 1   Unnamed: 0       732 non-null    int64  \n",
      " 2   Text             732 non-null    object \n",
      " 3   Sentiment        732 non-null    object \n",
      " 4   Timestamp        732 non-null    object \n",
      " 5   User             732 non-null    object \n",
      " 6   Platform         732 non-null    object \n",
      " 7   Hashtags         732 non-null    object \n",
      " 8   Retweets         732 non-null    float64\n",
      " 9   Likes            732 non-null    float64\n",
      " 10  Country          732 non-null    object \n",
      " 11  Year             732 non-null    int64  \n",
      " 12  Month            732 non-null    int64  \n",
      " 13  Day              732 non-null    int64  \n",
      " 14  Hour             732 non-null    int64  \n",
      " 15  Sentiment_Label  732 non-null    int32  \n",
      "dtypes: float64(2), int32(1), int64(6), object(7)\n",
      "memory usage: 88.8+ KB\n"
     ]
    }
   ],
   "source": [
    "%time \n",
    "\n",
    "df.info()"
   ]
  },
  {
   "cell_type": "code",
   "execution_count": 61,
   "id": "04fc19dc",
   "metadata": {},
   "outputs": [
    {
     "data": {
      "text/plain": [
       "object     7\n",
       "int64      6\n",
       "float64    2\n",
       "Name: count, dtype: int64"
      ]
     },
     "execution_count": 61,
     "metadata": {},
     "output_type": "execute_result"
    }
   ],
   "source": [
    "df.dtypes.value_counts()"
   ]
  },
  {
   "cell_type": "code",
   "execution_count": 14,
   "id": "29717836",
   "metadata": {},
   "outputs": [
    {
     "name": "stdout",
     "output_type": "stream",
     "text": [
      "CPU times: total: 0 ns\n",
      "Wall time: 0 ns\n"
     ]
    },
    {
     "data": {
      "text/html": [
       "<div>\n",
       "<style scoped>\n",
       "    .dataframe tbody tr th:only-of-type {\n",
       "        vertical-align: middle;\n",
       "    }\n",
       "\n",
       "    .dataframe tbody tr th {\n",
       "        vertical-align: top;\n",
       "    }\n",
       "\n",
       "    .dataframe thead th {\n",
       "        text-align: right;\n",
       "    }\n",
       "</style>\n",
       "<table border=\"1\" class=\"dataframe\">\n",
       "  <thead>\n",
       "    <tr style=\"text-align: right;\">\n",
       "      <th></th>\n",
       "      <th>count</th>\n",
       "      <th>mean</th>\n",
       "      <th>std</th>\n",
       "      <th>min</th>\n",
       "      <th>25%</th>\n",
       "      <th>50%</th>\n",
       "      <th>75%</th>\n",
       "      <th>max</th>\n",
       "    </tr>\n",
       "  </thead>\n",
       "  <tbody>\n",
       "    <tr>\n",
       "      <th>Unnamed: 0.1</th>\n",
       "      <td>732.0</td>\n",
       "      <td>366.464481</td>\n",
       "      <td>211.513936</td>\n",
       "      <td>0.0</td>\n",
       "      <td>183.75</td>\n",
       "      <td>366.5</td>\n",
       "      <td>549.25</td>\n",
       "      <td>732.0</td>\n",
       "    </tr>\n",
       "    <tr>\n",
       "      <th>Unnamed: 0</th>\n",
       "      <td>732.0</td>\n",
       "      <td>369.740437</td>\n",
       "      <td>212.428936</td>\n",
       "      <td>0.0</td>\n",
       "      <td>185.75</td>\n",
       "      <td>370.5</td>\n",
       "      <td>553.25</td>\n",
       "      <td>736.0</td>\n",
       "    </tr>\n",
       "    <tr>\n",
       "      <th>Retweets</th>\n",
       "      <td>732.0</td>\n",
       "      <td>21.508197</td>\n",
       "      <td>7.061286</td>\n",
       "      <td>5.0</td>\n",
       "      <td>17.75</td>\n",
       "      <td>22.0</td>\n",
       "      <td>25.00</td>\n",
       "      <td>40.0</td>\n",
       "    </tr>\n",
       "    <tr>\n",
       "      <th>Likes</th>\n",
       "      <td>732.0</td>\n",
       "      <td>42.901639</td>\n",
       "      <td>14.089848</td>\n",
       "      <td>10.0</td>\n",
       "      <td>34.75</td>\n",
       "      <td>43.0</td>\n",
       "      <td>50.00</td>\n",
       "      <td>80.0</td>\n",
       "    </tr>\n",
       "    <tr>\n",
       "      <th>Year</th>\n",
       "      <td>732.0</td>\n",
       "      <td>2020.471311</td>\n",
       "      <td>2.802285</td>\n",
       "      <td>2010.0</td>\n",
       "      <td>2019.00</td>\n",
       "      <td>2021.0</td>\n",
       "      <td>2023.00</td>\n",
       "      <td>2023.0</td>\n",
       "    </tr>\n",
       "    <tr>\n",
       "      <th>Month</th>\n",
       "      <td>732.0</td>\n",
       "      <td>6.122951</td>\n",
       "      <td>3.411763</td>\n",
       "      <td>1.0</td>\n",
       "      <td>3.00</td>\n",
       "      <td>6.0</td>\n",
       "      <td>9.00</td>\n",
       "      <td>12.0</td>\n",
       "    </tr>\n",
       "    <tr>\n",
       "      <th>Day</th>\n",
       "      <td>732.0</td>\n",
       "      <td>15.497268</td>\n",
       "      <td>8.474553</td>\n",
       "      <td>1.0</td>\n",
       "      <td>9.00</td>\n",
       "      <td>15.0</td>\n",
       "      <td>22.00</td>\n",
       "      <td>31.0</td>\n",
       "    </tr>\n",
       "    <tr>\n",
       "      <th>Hour</th>\n",
       "      <td>732.0</td>\n",
       "      <td>15.521858</td>\n",
       "      <td>4.113414</td>\n",
       "      <td>0.0</td>\n",
       "      <td>13.00</td>\n",
       "      <td>16.0</td>\n",
       "      <td>19.00</td>\n",
       "      <td>23.0</td>\n",
       "    </tr>\n",
       "    <tr>\n",
       "      <th>Sentiment_Label</th>\n",
       "      <td>732.0</td>\n",
       "      <td>138.405738</td>\n",
       "      <td>73.735566</td>\n",
       "      <td>0.0</td>\n",
       "      <td>78.00</td>\n",
       "      <td>139.0</td>\n",
       "      <td>201.00</td>\n",
       "      <td>278.0</td>\n",
       "    </tr>\n",
       "  </tbody>\n",
       "</table>\n",
       "</div>"
      ],
      "text/plain": [
       "                 count         mean         std     min      25%     50%  \\\n",
       "Unnamed: 0.1     732.0   366.464481  211.513936     0.0   183.75   366.5   \n",
       "Unnamed: 0       732.0   369.740437  212.428936     0.0   185.75   370.5   \n",
       "Retweets         732.0    21.508197    7.061286     5.0    17.75    22.0   \n",
       "Likes            732.0    42.901639   14.089848    10.0    34.75    43.0   \n",
       "Year             732.0  2020.471311    2.802285  2010.0  2019.00  2021.0   \n",
       "Month            732.0     6.122951    3.411763     1.0     3.00     6.0   \n",
       "Day              732.0    15.497268    8.474553     1.0     9.00    15.0   \n",
       "Hour             732.0    15.521858    4.113414     0.0    13.00    16.0   \n",
       "Sentiment_Label  732.0   138.405738   73.735566     0.0    78.00   139.0   \n",
       "\n",
       "                     75%     max  \n",
       "Unnamed: 0.1      549.25   732.0  \n",
       "Unnamed: 0        553.25   736.0  \n",
       "Retweets           25.00    40.0  \n",
       "Likes              50.00    80.0  \n",
       "Year             2023.00  2023.0  \n",
       "Month               9.00    12.0  \n",
       "Day                22.00    31.0  \n",
       "Hour               19.00    23.0  \n",
       "Sentiment_Label   201.00   278.0  "
      ]
     },
     "execution_count": 14,
     "metadata": {},
     "output_type": "execute_result"
    }
   ],
   "source": [
    "%time \n",
    "\n",
    "df.describe().T"
   ]
  },
  {
   "cell_type": "code",
   "execution_count": 15,
   "id": "15e69fe5",
   "metadata": {},
   "outputs": [
    {
     "name": "stdout",
     "output_type": "stream",
     "text": [
      "CPU times: total: 0 ns\n",
      "Wall time: 0 ns\n"
     ]
    },
    {
     "data": {
      "text/plain": [
       "Unnamed: 0.1       44738.145111\n",
       "Unnamed: 0         45126.052918\n",
       "Retweets              49.861766\n",
       "Likes                198.523828\n",
       "Year                   7.852801\n",
       "Month                 11.640129\n",
       "Day                   71.818050\n",
       "Hour                  16.920178\n",
       "Sentiment_Label     5436.933647\n",
       "dtype: float64"
      ]
     },
     "execution_count": 15,
     "metadata": {},
     "output_type": "execute_result"
    }
   ],
   "source": [
    "%time\n",
    "\n",
    "# Central Value \n",
    "df.median(numeric_only=True)\n",
    "\n",
    "# Most frequent values \n",
    "df.mode(numeric_only=True) \n",
    "\n",
    "# Spread of the values \n",
    "df.var(numeric_only=True)"
   ]
  },
  {
   "cell_type": "code",
   "execution_count": 16,
   "id": "a228e5cc",
   "metadata": {},
   "outputs": [
    {
     "name": "stdout",
     "output_type": "stream",
     "text": [
      "CPU times: total: 0 ns\n",
      "Wall time: 0 ns\n"
     ]
    },
    {
     "data": {
      "text/html": [
       "<div>\n",
       "<style scoped>\n",
       "    .dataframe tbody tr th:only-of-type {\n",
       "        vertical-align: middle;\n",
       "    }\n",
       "\n",
       "    .dataframe tbody tr th {\n",
       "        vertical-align: top;\n",
       "    }\n",
       "\n",
       "    .dataframe thead th {\n",
       "        text-align: right;\n",
       "    }\n",
       "</style>\n",
       "<table border=\"1\" class=\"dataframe\">\n",
       "  <thead>\n",
       "    <tr style=\"text-align: right;\">\n",
       "      <th></th>\n",
       "      <th>0</th>\n",
       "      <th>1</th>\n",
       "      <th>2</th>\n",
       "      <th>3</th>\n",
       "      <th>4</th>\n",
       "      <th>5</th>\n",
       "      <th>6</th>\n",
       "      <th>8</th>\n",
       "      <th>9</th>\n",
       "      <th>10</th>\n",
       "      <th>...</th>\n",
       "      <th>674</th>\n",
       "      <th>676</th>\n",
       "      <th>677</th>\n",
       "      <th>678</th>\n",
       "      <th>687</th>\n",
       "      <th>690</th>\n",
       "      <th>691</th>\n",
       "      <th>712</th>\n",
       "      <th>726</th>\n",
       "      <th>731</th>\n",
       "    </tr>\n",
       "  </thead>\n",
       "  <tbody>\n",
       "    <tr>\n",
       "      <th>Unnamed: 0.1</th>\n",
       "      <td>0</td>\n",
       "      <td>1</td>\n",
       "      <td>2</td>\n",
       "      <td>3</td>\n",
       "      <td>4</td>\n",
       "      <td>5</td>\n",
       "      <td>6</td>\n",
       "      <td>8</td>\n",
       "      <td>9</td>\n",
       "      <td>10</td>\n",
       "      <td>...</td>\n",
       "      <td>675</td>\n",
       "      <td>677</td>\n",
       "      <td>678</td>\n",
       "      <td>679</td>\n",
       "      <td>688</td>\n",
       "      <td>691</td>\n",
       "      <td>692</td>\n",
       "      <td>713</td>\n",
       "      <td>727</td>\n",
       "      <td>732</td>\n",
       "    </tr>\n",
       "    <tr>\n",
       "      <th>Unnamed: 0</th>\n",
       "      <td>0</td>\n",
       "      <td>1</td>\n",
       "      <td>2</td>\n",
       "      <td>3</td>\n",
       "      <td>4</td>\n",
       "      <td>5</td>\n",
       "      <td>6</td>\n",
       "      <td>8</td>\n",
       "      <td>9</td>\n",
       "      <td>10</td>\n",
       "      <td>...</td>\n",
       "      <td>679</td>\n",
       "      <td>681</td>\n",
       "      <td>682</td>\n",
       "      <td>683</td>\n",
       "      <td>692</td>\n",
       "      <td>695</td>\n",
       "      <td>696</td>\n",
       "      <td>717</td>\n",
       "      <td>731</td>\n",
       "      <td>736</td>\n",
       "    </tr>\n",
       "    <tr>\n",
       "      <th>Text</th>\n",
       "      <td>Enjoying a beautiful day at the park!        ...</td>\n",
       "      <td>Traffic was terrible this morning.           ...</td>\n",
       "      <td>Just finished an amazing workout! 💪          ...</td>\n",
       "      <td>Excited about the upcoming weekend getaway!  ...</td>\n",
       "      <td>Trying out a new recipe for dinner tonight.  ...</td>\n",
       "      <td>Feeling grateful for the little things in lif...</td>\n",
       "      <td>Rainy days call for cozy blankets and hot coc...</td>\n",
       "      <td>Political discussions heating up on the timel...</td>\n",
       "      <td>Missing summer vibes and beach days.         ...</td>\n",
       "      <td>Just published a new blog post. Check it out!...</td>\n",
       "      <td>...</td>\n",
       "      <td>Accidentally sent a love letter to the wrong p...</td>\n",
       "      <td>Crafting intricate friendship bracelets for th...</td>\n",
       "      <td>Attempting to beat the record for the most con...</td>\n",
       "      <td>Organizing a movie marathon with friends. Popc...</td>\n",
       "      <td>Witnessed a heated argument in the cafeteria. ...</td>\n",
       "      <td>Feeling lonely on a Saturday night. Sometimes ...</td>\n",
       "      <td>Experiencing cyberbullying. Hateful messages o...</td>\n",
       "      <td>Exploring a new hobby of photography during fr...</td>\n",
       "      <td>Achieving a personal best in a track and field...</td>\n",
       "      <td>Organizing a virtual talent show during challe...</td>\n",
       "    </tr>\n",
       "    <tr>\n",
       "      <th>Sentiment</th>\n",
       "      <td>Positive</td>\n",
       "      <td>Negative</td>\n",
       "      <td>Positive</td>\n",
       "      <td>Positive</td>\n",
       "      <td>Neutral</td>\n",
       "      <td>Positive</td>\n",
       "      <td>Positive</td>\n",
       "      <td>Negative</td>\n",
       "      <td>Neutral</td>\n",
       "      <td>Positive</td>\n",
       "      <td>...</td>\n",
       "      <td>Embarrassed</td>\n",
       "      <td>Joy</td>\n",
       "      <td>Excitement</td>\n",
       "      <td>Joy</td>\n",
       "      <td>Hate</td>\n",
       "      <td>Sad</td>\n",
       "      <td>Hate</td>\n",
       "      <td>Neutral</td>\n",
       "      <td>Happy</td>\n",
       "      <td>Happy</td>\n",
       "    </tr>\n",
       "    <tr>\n",
       "      <th>Timestamp</th>\n",
       "      <td>2023-01-15 12:30:00</td>\n",
       "      <td>2023-01-15 08:45:00</td>\n",
       "      <td>2023-01-15 15:45:00</td>\n",
       "      <td>2023-01-15 18:20:00</td>\n",
       "      <td>2023-01-15 19:55:00</td>\n",
       "      <td>2023-01-16 09:10:00</td>\n",
       "      <td>2023-01-16 14:45:00</td>\n",
       "      <td>2023-01-17 08:00:00</td>\n",
       "      <td>2023-01-17 12:20:00</td>\n",
       "      <td>2023-01-17 15:15:00</td>\n",
       "      <td>...</td>\n",
       "      <td>2023-09-02 18:30:00</td>\n",
       "      <td>2023-09-04 15:15:00</td>\n",
       "      <td>2023-09-05 12:30:00</td>\n",
       "      <td>2023-09-06 16:45:00</td>\n",
       "      <td>2023-09-15 14:15:00</td>\n",
       "      <td>2023-09-18 22:00:00</td>\n",
       "      <td>2023-09-19 15:15:00</td>\n",
       "      <td>2023-10-10 14:15:00</td>\n",
       "      <td>2016-09-14 12:30:00</td>\n",
       "      <td>2020-11-15 15:15:00</td>\n",
       "    </tr>\n",
       "    <tr>\n",
       "      <th>User</th>\n",
       "      <td>User123</td>\n",
       "      <td>CommuterX</td>\n",
       "      <td>FitnessFan</td>\n",
       "      <td>AdventureX</td>\n",
       "      <td>ChefCook</td>\n",
       "      <td>GratitudeNow</td>\n",
       "      <td>RainyDays</td>\n",
       "      <td>DebateTalk</td>\n",
       "      <td>BeachLover</td>\n",
       "      <td>BloggerX</td>\n",
       "      <td>...</td>\n",
       "      <td>LoveLetterBlunderHighSchool</td>\n",
       "      <td>BraceletCraftsmanHighSchool</td>\n",
       "      <td>CartwheelMasterHighSchool</td>\n",
       "      <td>MovieMarathonHostHighSchool</td>\n",
       "      <td>CafeteriaConflictHighSchool</td>\n",
       "      <td>LonelySaturdayHighSchool</td>\n",
       "      <td>CyberbullyingVictimHighSchool</td>\n",
       "      <td>PhotographyHobbyHighSchool</td>\n",
       "      <td>TrackFieldSuccessHighSchool</td>\n",
       "      <td>VirtualTalentShowSuccessHighSchool</td>\n",
       "    </tr>\n",
       "    <tr>\n",
       "      <th>Platform</th>\n",
       "      <td>Twitter</td>\n",
       "      <td>Twitter</td>\n",
       "      <td>Instagram</td>\n",
       "      <td>Facebook</td>\n",
       "      <td>Instagram</td>\n",
       "      <td>Twitter</td>\n",
       "      <td>Facebook</td>\n",
       "      <td>Twitter</td>\n",
       "      <td>Facebook</td>\n",
       "      <td>Instagram</td>\n",
       "      <td>...</td>\n",
       "      <td>Facebook</td>\n",
       "      <td>Instagram</td>\n",
       "      <td>Twitter</td>\n",
       "      <td>Facebook</td>\n",
       "      <td>Instagram</td>\n",
       "      <td>Instagram</td>\n",
       "      <td>Facebook</td>\n",
       "      <td>Instagram</td>\n",
       "      <td>Twitter</td>\n",
       "      <td>Instagram</td>\n",
       "    </tr>\n",
       "    <tr>\n",
       "      <th>Hashtags</th>\n",
       "      <td>#Nature #Park</td>\n",
       "      <td>#Traffic #Morning</td>\n",
       "      <td>#Fitness #Workout</td>\n",
       "      <td>#Travel #Adventure</td>\n",
       "      <td>#Cooking #Food</td>\n",
       "      <td>#Gratitude #PositiveVibes</td>\n",
       "      <td>#RainyDays #Cozy</td>\n",
       "      <td>#Politics #Debate</td>\n",
       "      <td>#Summer #BeachDays</td>\n",
       "      <td>#Blogging #NewPost</td>\n",
       "      <td>...</td>\n",
       "      <td>#LoveLetterFail #HighSchoolAwkward</td>\n",
       "      <td>#FriendshipBracelets #HighSchoolCrafts</td>\n",
       "      <td>#CartwheelChallenge #HighSchoolAthlete</td>\n",
       "      <td>#MovieNight #HighSchoolMemories</td>\n",
       "      <td>#CafeteriaDrama #HighSchoolTension</td>\n",
       "      <td>#LonelyNights #HighSchoolEmotions</td>\n",
       "      <td>#StopCyberbullying #HighSchoolReality</td>\n",
       "      <td>#PhotographyJourney #HighSchoolHobbies</td>\n",
       "      <td>#AthleticAchievement #HighSchoolSports</td>\n",
       "      <td>#VirtualEntertainment #HighSchoolPositivity</td>\n",
       "    </tr>\n",
       "    <tr>\n",
       "      <th>Retweets</th>\n",
       "      <td>15.0</td>\n",
       "      <td>5.0</td>\n",
       "      <td>20.0</td>\n",
       "      <td>8.0</td>\n",
       "      <td>12.0</td>\n",
       "      <td>25.0</td>\n",
       "      <td>10.0</td>\n",
       "      <td>30.0</td>\n",
       "      <td>18.0</td>\n",
       "      <td>22.0</td>\n",
       "      <td>...</td>\n",
       "      <td>17.0</td>\n",
       "      <td>19.0</td>\n",
       "      <td>27.0</td>\n",
       "      <td>22.0</td>\n",
       "      <td>21.0</td>\n",
       "      <td>16.0</td>\n",
       "      <td>14.0</td>\n",
       "      <td>25.0</td>\n",
       "      <td>26.0</td>\n",
       "      <td>24.0</td>\n",
       "    </tr>\n",
       "    <tr>\n",
       "      <th>Likes</th>\n",
       "      <td>30.0</td>\n",
       "      <td>10.0</td>\n",
       "      <td>40.0</td>\n",
       "      <td>15.0</td>\n",
       "      <td>25.0</td>\n",
       "      <td>50.0</td>\n",
       "      <td>20.0</td>\n",
       "      <td>60.0</td>\n",
       "      <td>35.0</td>\n",
       "      <td>45.0</td>\n",
       "      <td>...</td>\n",
       "      <td>33.0</td>\n",
       "      <td>37.0</td>\n",
       "      <td>52.0</td>\n",
       "      <td>43.0</td>\n",
       "      <td>41.0</td>\n",
       "      <td>31.0</td>\n",
       "      <td>27.0</td>\n",
       "      <td>49.0</td>\n",
       "      <td>51.0</td>\n",
       "      <td>47.0</td>\n",
       "    </tr>\n",
       "    <tr>\n",
       "      <th>Country</th>\n",
       "      <td>USA</td>\n",
       "      <td>Canada</td>\n",
       "      <td>USA</td>\n",
       "      <td>UK</td>\n",
       "      <td>Australia</td>\n",
       "      <td>India</td>\n",
       "      <td>Canada</td>\n",
       "      <td>USA</td>\n",
       "      <td>Australia</td>\n",
       "      <td>USA</td>\n",
       "      <td>...</td>\n",
       "      <td>USA</td>\n",
       "      <td>USA</td>\n",
       "      <td>Canada</td>\n",
       "      <td>UK</td>\n",
       "      <td>Canada</td>\n",
       "      <td>Canada</td>\n",
       "      <td>UK</td>\n",
       "      <td>UK</td>\n",
       "      <td>Canada</td>\n",
       "      <td>USA</td>\n",
       "    </tr>\n",
       "    <tr>\n",
       "      <th>Year</th>\n",
       "      <td>2023</td>\n",
       "      <td>2023</td>\n",
       "      <td>2023</td>\n",
       "      <td>2023</td>\n",
       "      <td>2023</td>\n",
       "      <td>2023</td>\n",
       "      <td>2023</td>\n",
       "      <td>2023</td>\n",
       "      <td>2023</td>\n",
       "      <td>2023</td>\n",
       "      <td>...</td>\n",
       "      <td>2023</td>\n",
       "      <td>2023</td>\n",
       "      <td>2023</td>\n",
       "      <td>2023</td>\n",
       "      <td>2023</td>\n",
       "      <td>2023</td>\n",
       "      <td>2023</td>\n",
       "      <td>2023</td>\n",
       "      <td>2016</td>\n",
       "      <td>2020</td>\n",
       "    </tr>\n",
       "    <tr>\n",
       "      <th>Month</th>\n",
       "      <td>1</td>\n",
       "      <td>1</td>\n",
       "      <td>1</td>\n",
       "      <td>1</td>\n",
       "      <td>1</td>\n",
       "      <td>1</td>\n",
       "      <td>1</td>\n",
       "      <td>1</td>\n",
       "      <td>1</td>\n",
       "      <td>1</td>\n",
       "      <td>...</td>\n",
       "      <td>9</td>\n",
       "      <td>9</td>\n",
       "      <td>9</td>\n",
       "      <td>9</td>\n",
       "      <td>9</td>\n",
       "      <td>9</td>\n",
       "      <td>9</td>\n",
       "      <td>10</td>\n",
       "      <td>9</td>\n",
       "      <td>11</td>\n",
       "    </tr>\n",
       "    <tr>\n",
       "      <th>Day</th>\n",
       "      <td>15</td>\n",
       "      <td>15</td>\n",
       "      <td>15</td>\n",
       "      <td>15</td>\n",
       "      <td>15</td>\n",
       "      <td>16</td>\n",
       "      <td>16</td>\n",
       "      <td>17</td>\n",
       "      <td>17</td>\n",
       "      <td>17</td>\n",
       "      <td>...</td>\n",
       "      <td>2</td>\n",
       "      <td>4</td>\n",
       "      <td>5</td>\n",
       "      <td>6</td>\n",
       "      <td>15</td>\n",
       "      <td>18</td>\n",
       "      <td>19</td>\n",
       "      <td>10</td>\n",
       "      <td>14</td>\n",
       "      <td>15</td>\n",
       "    </tr>\n",
       "    <tr>\n",
       "      <th>Hour</th>\n",
       "      <td>12</td>\n",
       "      <td>8</td>\n",
       "      <td>15</td>\n",
       "      <td>18</td>\n",
       "      <td>19</td>\n",
       "      <td>9</td>\n",
       "      <td>14</td>\n",
       "      <td>8</td>\n",
       "      <td>12</td>\n",
       "      <td>15</td>\n",
       "      <td>...</td>\n",
       "      <td>18</td>\n",
       "      <td>15</td>\n",
       "      <td>12</td>\n",
       "      <td>16</td>\n",
       "      <td>14</td>\n",
       "      <td>22</td>\n",
       "      <td>15</td>\n",
       "      <td>14</td>\n",
       "      <td>12</td>\n",
       "      <td>15</td>\n",
       "    </tr>\n",
       "    <tr>\n",
       "      <th>Sentiment_Label</th>\n",
       "      <td>214</td>\n",
       "      <td>195</td>\n",
       "      <td>214</td>\n",
       "      <td>214</td>\n",
       "      <td>197</td>\n",
       "      <td>214</td>\n",
       "      <td>214</td>\n",
       "      <td>195</td>\n",
       "      <td>197</td>\n",
       "      <td>214</td>\n",
       "      <td>...</td>\n",
       "      <td>91</td>\n",
       "      <td>172</td>\n",
       "      <td>110</td>\n",
       "      <td>172</td>\n",
       "      <td>143</td>\n",
       "      <td>239</td>\n",
       "      <td>143</td>\n",
       "      <td>196</td>\n",
       "      <td>139</td>\n",
       "      <td>139</td>\n",
       "    </tr>\n",
       "  </tbody>\n",
       "</table>\n",
       "<p>16 rows × 38 columns</p>\n",
       "</div>"
      ],
      "text/plain": [
       "                                                               0    \\\n",
       "Unnamed: 0.1                                                     0   \n",
       "Unnamed: 0                                                       0   \n",
       "Text              Enjoying a beautiful day at the park!        ...   \n",
       "Sentiment                                               Positive     \n",
       "Timestamp                                      2023-01-15 12:30:00   \n",
       "User                                                 User123         \n",
       "Platform                                                 Twitter     \n",
       "Hashtags                 #Nature #Park                               \n",
       "Retweets                                                      15.0   \n",
       "Likes                                                         30.0   \n",
       "Country                                                  USA         \n",
       "Year                                                          2023   \n",
       "Month                                                            1   \n",
       "Day                                                             15   \n",
       "Hour                                                            12   \n",
       "Sentiment_Label                                                214   \n",
       "\n",
       "                                                               1    \\\n",
       "Unnamed: 0.1                                                     1   \n",
       "Unnamed: 0                                                       1   \n",
       "Text              Traffic was terrible this morning.           ...   \n",
       "Sentiment                                               Negative     \n",
       "Timestamp                                      2023-01-15 08:45:00   \n",
       "User                                                 CommuterX       \n",
       "Platform                                                 Twitter     \n",
       "Hashtags                 #Traffic #Morning                           \n",
       "Retweets                                                       5.0   \n",
       "Likes                                                         10.0   \n",
       "Country                                                  Canada      \n",
       "Year                                                          2023   \n",
       "Month                                                            1   \n",
       "Day                                                             15   \n",
       "Hour                                                             8   \n",
       "Sentiment_Label                                                195   \n",
       "\n",
       "                                                               2    \\\n",
       "Unnamed: 0.1                                                     2   \n",
       "Unnamed: 0                                                       2   \n",
       "Text              Just finished an amazing workout! 💪          ...   \n",
       "Sentiment                                               Positive     \n",
       "Timestamp                                      2023-01-15 15:45:00   \n",
       "User                                                 FitnessFan      \n",
       "Platform                                                Instagram    \n",
       "Hashtags                 #Fitness #Workout                           \n",
       "Retweets                                                      20.0   \n",
       "Likes                                                         40.0   \n",
       "Country                                                USA           \n",
       "Year                                                          2023   \n",
       "Month                                                            1   \n",
       "Day                                                             15   \n",
       "Hour                                                            15   \n",
       "Sentiment_Label                                                214   \n",
       "\n",
       "                                                               3    \\\n",
       "Unnamed: 0.1                                                     3   \n",
       "Unnamed: 0                                                       3   \n",
       "Text              Excited about the upcoming weekend getaway!  ...   \n",
       "Sentiment                                               Positive     \n",
       "Timestamp                                      2023-01-15 18:20:00   \n",
       "User                                                 AdventureX      \n",
       "Platform                                                 Facebook    \n",
       "Hashtags                 #Travel #Adventure                          \n",
       "Retweets                                                       8.0   \n",
       "Likes                                                         15.0   \n",
       "Country                                                  UK          \n",
       "Year                                                          2023   \n",
       "Month                                                            1   \n",
       "Day                                                             15   \n",
       "Hour                                                            18   \n",
       "Sentiment_Label                                                214   \n",
       "\n",
       "                                                               4    \\\n",
       "Unnamed: 0.1                                                     4   \n",
       "Unnamed: 0                                                       4   \n",
       "Text              Trying out a new recipe for dinner tonight.  ...   \n",
       "Sentiment                                               Neutral      \n",
       "Timestamp                                      2023-01-15 19:55:00   \n",
       "User                                                 ChefCook        \n",
       "Platform                                                Instagram    \n",
       "Hashtags                 #Cooking #Food                              \n",
       "Retweets                                                      12.0   \n",
       "Likes                                                         25.0   \n",
       "Country                                                 Australia    \n",
       "Year                                                          2023   \n",
       "Month                                                            1   \n",
       "Day                                                             15   \n",
       "Hour                                                            19   \n",
       "Sentiment_Label                                                197   \n",
       "\n",
       "                                                               5    \\\n",
       "Unnamed: 0.1                                                     5   \n",
       "Unnamed: 0                                                       5   \n",
       "Text              Feeling grateful for the little things in lif...   \n",
       "Sentiment                                               Positive     \n",
       "Timestamp                                      2023-01-16 09:10:00   \n",
       "User                                                 GratitudeNow    \n",
       "Platform                                                 Twitter     \n",
       "Hashtags                   #Gratitude #PositiveVibes                 \n",
       "Retweets                                                      25.0   \n",
       "Likes                                                         50.0   \n",
       "Country                                                  India       \n",
       "Year                                                          2023   \n",
       "Month                                                            1   \n",
       "Day                                                             16   \n",
       "Hour                                                             9   \n",
       "Sentiment_Label                                                214   \n",
       "\n",
       "                                                               6    \\\n",
       "Unnamed: 0.1                                                     6   \n",
       "Unnamed: 0                                                       6   \n",
       "Text              Rainy days call for cozy blankets and hot coc...   \n",
       "Sentiment                                               Positive     \n",
       "Timestamp                                      2023-01-16 14:45:00   \n",
       "User                                                 RainyDays       \n",
       "Platform                                                 Facebook    \n",
       "Hashtags                 #RainyDays #Cozy                            \n",
       "Retweets                                                      10.0   \n",
       "Likes                                                         20.0   \n",
       "Country                                                  Canada      \n",
       "Year                                                          2023   \n",
       "Month                                                            1   \n",
       "Day                                                             16   \n",
       "Hour                                                            14   \n",
       "Sentiment_Label                                                214   \n",
       "\n",
       "                                                               8    \\\n",
       "Unnamed: 0.1                                                     8   \n",
       "Unnamed: 0                                                       8   \n",
       "Text              Political discussions heating up on the timel...   \n",
       "Sentiment                                               Negative     \n",
       "Timestamp                                      2023-01-17 08:00:00   \n",
       "User                                                 DebateTalk      \n",
       "Platform                                                 Twitter     \n",
       "Hashtags                  #Politics #Debate                          \n",
       "Retweets                                                      30.0   \n",
       "Likes                                                         60.0   \n",
       "Country                                                  USA         \n",
       "Year                                                          2023   \n",
       "Month                                                            1   \n",
       "Day                                                             17   \n",
       "Hour                                                             8   \n",
       "Sentiment_Label                                                195   \n",
       "\n",
       "                                                               9    \\\n",
       "Unnamed: 0.1                                                     9   \n",
       "Unnamed: 0                                                       9   \n",
       "Text              Missing summer vibes and beach days.         ...   \n",
       "Sentiment                                               Neutral      \n",
       "Timestamp                                      2023-01-17 12:20:00   \n",
       "User                                                 BeachLover      \n",
       "Platform                                                 Facebook    \n",
       "Hashtags                  #Summer #BeachDays                         \n",
       "Retweets                                                      18.0   \n",
       "Likes                                                         35.0   \n",
       "Country                                                 Australia    \n",
       "Year                                                          2023   \n",
       "Month                                                            1   \n",
       "Day                                                             17   \n",
       "Hour                                                            12   \n",
       "Sentiment_Label                                                197   \n",
       "\n",
       "                                                               10   ...  \\\n",
       "Unnamed: 0.1                                                    10  ...   \n",
       "Unnamed: 0                                                      10  ...   \n",
       "Text              Just published a new blog post. Check it out!...  ...   \n",
       "Sentiment                                               Positive    ...   \n",
       "Timestamp                                      2023-01-17 15:15:00  ...   \n",
       "User                                                 BloggerX       ...   \n",
       "Platform                                                Instagram   ...   \n",
       "Hashtags                  #Blogging #NewPost                        ...   \n",
       "Retweets                                                      22.0  ...   \n",
       "Likes                                                         45.0  ...   \n",
       "Country                                                        USA  ...   \n",
       "Year                                                          2023  ...   \n",
       "Month                                                            1  ...   \n",
       "Day                                                             17  ...   \n",
       "Hour                                                            15  ...   \n",
       "Sentiment_Label                                                214  ...   \n",
       "\n",
       "                                                               674  \\\n",
       "Unnamed: 0.1                                                   675   \n",
       "Unnamed: 0                                                     679   \n",
       "Text             Accidentally sent a love letter to the wrong p...   \n",
       "Sentiment                                             Embarrassed    \n",
       "Timestamp                                      2023-09-02 18:30:00   \n",
       "User                                  LoveLetterBlunderHighSchool    \n",
       "Platform                                                 Facebook    \n",
       "Hashtags                       #LoveLetterFail #HighSchoolAwkward    \n",
       "Retweets                                                      17.0   \n",
       "Likes                                                         33.0   \n",
       "Country                                                        USA   \n",
       "Year                                                          2023   \n",
       "Month                                                            9   \n",
       "Day                                                              2   \n",
       "Hour                                                            18   \n",
       "Sentiment_Label                                                 91   \n",
       "\n",
       "                                                               676  \\\n",
       "Unnamed: 0.1                                                   677   \n",
       "Unnamed: 0                                                     681   \n",
       "Text             Crafting intricate friendship bracelets for th...   \n",
       "Sentiment                                                     Joy    \n",
       "Timestamp                                      2023-09-04 15:15:00   \n",
       "User                                  BraceletCraftsmanHighSchool    \n",
       "Platform                                                Instagram    \n",
       "Hashtags                   #FriendshipBracelets #HighSchoolCrafts    \n",
       "Retweets                                                      19.0   \n",
       "Likes                                                         37.0   \n",
       "Country                                                        USA   \n",
       "Year                                                          2023   \n",
       "Month                                                            9   \n",
       "Day                                                              4   \n",
       "Hour                                                            15   \n",
       "Sentiment_Label                                                172   \n",
       "\n",
       "                                                               677  \\\n",
       "Unnamed: 0.1                                                   678   \n",
       "Unnamed: 0                                                     682   \n",
       "Text             Attempting to beat the record for the most con...   \n",
       "Sentiment                                              Excitement    \n",
       "Timestamp                                      2023-09-05 12:30:00   \n",
       "User                                    CartwheelMasterHighSchool    \n",
       "Platform                                                  Twitter    \n",
       "Hashtags                   #CartwheelChallenge #HighSchoolAthlete    \n",
       "Retweets                                                      27.0   \n",
       "Likes                                                         52.0   \n",
       "Country                                                     Canada   \n",
       "Year                                                          2023   \n",
       "Month                                                            9   \n",
       "Day                                                              5   \n",
       "Hour                                                            12   \n",
       "Sentiment_Label                                                110   \n",
       "\n",
       "                                                               678  \\\n",
       "Unnamed: 0.1                                                   679   \n",
       "Unnamed: 0                                                     683   \n",
       "Text             Organizing a movie marathon with friends. Popc...   \n",
       "Sentiment                                                     Joy    \n",
       "Timestamp                                      2023-09-06 16:45:00   \n",
       "User                                  MovieMarathonHostHighSchool    \n",
       "Platform                                                 Facebook    \n",
       "Hashtags                          #MovieNight #HighSchoolMemories    \n",
       "Retweets                                                      22.0   \n",
       "Likes                                                         43.0   \n",
       "Country                                                         UK   \n",
       "Year                                                          2023   \n",
       "Month                                                            9   \n",
       "Day                                                              6   \n",
       "Hour                                                            16   \n",
       "Sentiment_Label                                                172   \n",
       "\n",
       "                                                               687  \\\n",
       "Unnamed: 0.1                                                   688   \n",
       "Unnamed: 0                                                     692   \n",
       "Text             Witnessed a heated argument in the cafeteria. ...   \n",
       "Sentiment                                                    Hate    \n",
       "Timestamp                                      2023-09-15 14:15:00   \n",
       "User                                  CafeteriaConflictHighSchool    \n",
       "Platform                                                Instagram    \n",
       "Hashtags                       #CafeteriaDrama #HighSchoolTension    \n",
       "Retweets                                                      21.0   \n",
       "Likes                                                         41.0   \n",
       "Country                                                     Canada   \n",
       "Year                                                          2023   \n",
       "Month                                                            9   \n",
       "Day                                                             15   \n",
       "Hour                                                            14   \n",
       "Sentiment_Label                                                143   \n",
       "\n",
       "                                                               690  \\\n",
       "Unnamed: 0.1                                                   691   \n",
       "Unnamed: 0                                                     695   \n",
       "Text             Feeling lonely on a Saturday night. Sometimes ...   \n",
       "Sentiment                                                     Sad    \n",
       "Timestamp                                      2023-09-18 22:00:00   \n",
       "User                                     LonelySaturdayHighSchool    \n",
       "Platform                                                Instagram    \n",
       "Hashtags                        #LonelyNights #HighSchoolEmotions    \n",
       "Retweets                                                      16.0   \n",
       "Likes                                                         31.0   \n",
       "Country                                                     Canada   \n",
       "Year                                                          2023   \n",
       "Month                                                            9   \n",
       "Day                                                             18   \n",
       "Hour                                                            22   \n",
       "Sentiment_Label                                                239   \n",
       "\n",
       "                                                               691  \\\n",
       "Unnamed: 0.1                                                   692   \n",
       "Unnamed: 0                                                     696   \n",
       "Text             Experiencing cyberbullying. Hateful messages o...   \n",
       "Sentiment                                                    Hate    \n",
       "Timestamp                                      2023-09-19 15:15:00   \n",
       "User                                CyberbullyingVictimHighSchool    \n",
       "Platform                                                 Facebook    \n",
       "Hashtags                    #StopCyberbullying #HighSchoolReality    \n",
       "Retweets                                                      14.0   \n",
       "Likes                                                         27.0   \n",
       "Country                                                         UK   \n",
       "Year                                                          2023   \n",
       "Month                                                            9   \n",
       "Day                                                             19   \n",
       "Hour                                                            15   \n",
       "Sentiment_Label                                                143   \n",
       "\n",
       "                                                               712  \\\n",
       "Unnamed: 0.1                                                   713   \n",
       "Unnamed: 0                                                     717   \n",
       "Text             Exploring a new hobby of photography during fr...   \n",
       "Sentiment                                                 Neutral    \n",
       "Timestamp                                      2023-10-10 14:15:00   \n",
       "User                                   PhotographyHobbyHighSchool    \n",
       "Platform                                                Instagram    \n",
       "Hashtags                   #PhotographyJourney #HighSchoolHobbies    \n",
       "Retweets                                                      25.0   \n",
       "Likes                                                         49.0   \n",
       "Country                                                         UK   \n",
       "Year                                                          2023   \n",
       "Month                                                           10   \n",
       "Day                                                             10   \n",
       "Hour                                                            14   \n",
       "Sentiment_Label                                                196   \n",
       "\n",
       "                                                               726  \\\n",
       "Unnamed: 0.1                                                   727   \n",
       "Unnamed: 0                                                     731   \n",
       "Text             Achieving a personal best in a track and field...   \n",
       "Sentiment                                                   Happy    \n",
       "Timestamp                                      2016-09-14 12:30:00   \n",
       "User                                  TrackFieldSuccessHighSchool    \n",
       "Platform                                                  Twitter    \n",
       "Hashtags                   #AthleticAchievement #HighSchoolSports    \n",
       "Retweets                                                      26.0   \n",
       "Likes                                                         51.0   \n",
       "Country                                                     Canada   \n",
       "Year                                                          2016   \n",
       "Month                                                            9   \n",
       "Day                                                             14   \n",
       "Hour                                                            12   \n",
       "Sentiment_Label                                                139   \n",
       "\n",
       "                                                               731  \n",
       "Unnamed: 0.1                                                   732  \n",
       "Unnamed: 0                                                     736  \n",
       "Text             Organizing a virtual talent show during challe...  \n",
       "Sentiment                                                   Happy   \n",
       "Timestamp                                      2020-11-15 15:15:00  \n",
       "User                           VirtualTalentShowSuccessHighSchool   \n",
       "Platform                                                Instagram   \n",
       "Hashtags              #VirtualEntertainment #HighSchoolPositivity   \n",
       "Retweets                                                      24.0  \n",
       "Likes                                                         47.0  \n",
       "Country                                                        USA  \n",
       "Year                                                          2020  \n",
       "Month                                                           11  \n",
       "Day                                                             15  \n",
       "Hour                                                            15  \n",
       "Sentiment_Label                                                139  \n",
       "\n",
       "[16 rows x 38 columns]"
      ]
     },
     "execution_count": 16,
     "metadata": {},
     "output_type": "execute_result"
    }
   ],
   "source": [
    "%time\n",
    "\n",
    "# Checking the duplicates \n",
    "data = df.drop_duplicates(subset =\"Likes\").T\n",
    "data"
   ]
  },
  {
   "cell_type": "code",
   "execution_count": 17,
   "id": "b03be24b",
   "metadata": {},
   "outputs": [
    {
     "name": "stdout",
     "output_type": "stream",
     "text": [
      "CPU times: total: 0 ns\n",
      "Wall time: 0 ns\n"
     ]
    },
    {
     "data": {
      "text/html": [
       "<div>\n",
       "<style scoped>\n",
       "    .dataframe tbody tr th:only-of-type {\n",
       "        vertical-align: middle;\n",
       "    }\n",
       "\n",
       "    .dataframe tbody tr th {\n",
       "        vertical-align: top;\n",
       "    }\n",
       "\n",
       "    .dataframe thead th {\n",
       "        text-align: right;\n",
       "    }\n",
       "</style>\n",
       "<table border=\"1\" class=\"dataframe\">\n",
       "  <thead>\n",
       "    <tr style=\"text-align: right;\">\n",
       "      <th></th>\n",
       "      <th>Text</th>\n",
       "      <th>Sentiment</th>\n",
       "      <th>Timestamp</th>\n",
       "      <th>User</th>\n",
       "      <th>Platform</th>\n",
       "      <th>Hashtags</th>\n",
       "      <th>Retweets</th>\n",
       "      <th>Likes</th>\n",
       "      <th>Country</th>\n",
       "      <th>Year</th>\n",
       "      <th>Month</th>\n",
       "      <th>Day</th>\n",
       "      <th>Hour</th>\n",
       "      <th>Sentiment_Label</th>\n",
       "    </tr>\n",
       "  </thead>\n",
       "  <tbody>\n",
       "    <tr>\n",
       "      <th>0</th>\n",
       "      <td>Enjoying a beautiful day at the park!        ...</td>\n",
       "      <td>Positive</td>\n",
       "      <td>2023-01-15 12:30:00</td>\n",
       "      <td>User123</td>\n",
       "      <td>Twitter</td>\n",
       "      <td>#Nature #Park</td>\n",
       "      <td>15.0</td>\n",
       "      <td>30.0</td>\n",
       "      <td>USA</td>\n",
       "      <td>2023</td>\n",
       "      <td>1</td>\n",
       "      <td>15</td>\n",
       "      <td>12</td>\n",
       "      <td>214</td>\n",
       "    </tr>\n",
       "    <tr>\n",
       "      <th>1</th>\n",
       "      <td>Traffic was terrible this morning.           ...</td>\n",
       "      <td>Negative</td>\n",
       "      <td>2023-01-15 08:45:00</td>\n",
       "      <td>CommuterX</td>\n",
       "      <td>Twitter</td>\n",
       "      <td>#Traffic #Morning</td>\n",
       "      <td>5.0</td>\n",
       "      <td>10.0</td>\n",
       "      <td>Canada</td>\n",
       "      <td>2023</td>\n",
       "      <td>1</td>\n",
       "      <td>15</td>\n",
       "      <td>8</td>\n",
       "      <td>195</td>\n",
       "    </tr>\n",
       "    <tr>\n",
       "      <th>2</th>\n",
       "      <td>Just finished an amazing workout! 💪          ...</td>\n",
       "      <td>Positive</td>\n",
       "      <td>2023-01-15 15:45:00</td>\n",
       "      <td>FitnessFan</td>\n",
       "      <td>Instagram</td>\n",
       "      <td>#Fitness #Workout</td>\n",
       "      <td>20.0</td>\n",
       "      <td>40.0</td>\n",
       "      <td>USA</td>\n",
       "      <td>2023</td>\n",
       "      <td>1</td>\n",
       "      <td>15</td>\n",
       "      <td>15</td>\n",
       "      <td>214</td>\n",
       "    </tr>\n",
       "    <tr>\n",
       "      <th>3</th>\n",
       "      <td>Excited about the upcoming weekend getaway!  ...</td>\n",
       "      <td>Positive</td>\n",
       "      <td>2023-01-15 18:20:00</td>\n",
       "      <td>AdventureX</td>\n",
       "      <td>Facebook</td>\n",
       "      <td>#Travel #Adventure</td>\n",
       "      <td>8.0</td>\n",
       "      <td>15.0</td>\n",
       "      <td>UK</td>\n",
       "      <td>2023</td>\n",
       "      <td>1</td>\n",
       "      <td>15</td>\n",
       "      <td>18</td>\n",
       "      <td>214</td>\n",
       "    </tr>\n",
       "    <tr>\n",
       "      <th>4</th>\n",
       "      <td>Trying out a new recipe for dinner tonight.  ...</td>\n",
       "      <td>Neutral</td>\n",
       "      <td>2023-01-15 19:55:00</td>\n",
       "      <td>ChefCook</td>\n",
       "      <td>Instagram</td>\n",
       "      <td>#Cooking #Food</td>\n",
       "      <td>12.0</td>\n",
       "      <td>25.0</td>\n",
       "      <td>Australia</td>\n",
       "      <td>2023</td>\n",
       "      <td>1</td>\n",
       "      <td>15</td>\n",
       "      <td>19</td>\n",
       "      <td>197</td>\n",
       "    </tr>\n",
       "  </tbody>\n",
       "</table>\n",
       "</div>"
      ],
      "text/plain": [
       "                                                Text    Sentiment  \\\n",
       "0   Enjoying a beautiful day at the park!        ...   Positive     \n",
       "1   Traffic was terrible this morning.           ...   Negative     \n",
       "2   Just finished an amazing workout! 💪          ...   Positive     \n",
       "3   Excited about the upcoming weekend getaway!  ...   Positive     \n",
       "4   Trying out a new recipe for dinner tonight.  ...   Neutral      \n",
       "\n",
       "             Timestamp            User     Platform  \\\n",
       "0  2023-01-15 12:30:00   User123          Twitter     \n",
       "1  2023-01-15 08:45:00   CommuterX        Twitter     \n",
       "2  2023-01-15 15:45:00   FitnessFan      Instagram    \n",
       "3  2023-01-15 18:20:00   AdventureX       Facebook    \n",
       "4  2023-01-15 19:55:00   ChefCook        Instagram    \n",
       "\n",
       "                                     Hashtags  Retweets  Likes       Country  \\\n",
       "0   #Nature #Park                                  15.0   30.0     USA         \n",
       "1   #Traffic #Morning                               5.0   10.0     Canada      \n",
       "2   #Fitness #Workout                              20.0   40.0   USA           \n",
       "3   #Travel #Adventure                              8.0   15.0     UK          \n",
       "4   #Cooking #Food                                 12.0   25.0    Australia    \n",
       "\n",
       "   Year  Month  Day  Hour  Sentiment_Label  \n",
       "0  2023      1   15    12              214  \n",
       "1  2023      1   15     8              195  \n",
       "2  2023      1   15    15              214  \n",
       "3  2023      1   15    18              214  \n",
       "4  2023      1   15    19              197  "
      ]
     },
     "execution_count": 17,
     "metadata": {},
     "output_type": "execute_result"
    }
   ],
   "source": [
    "%time \n",
    "\n",
    "## Droping the columns unnamed and unnamed\n",
    "df.drop(['Unnamed: 0.1', 'Unnamed: 0'], axis=1, inplace=True)\n",
    "df.head()\n"
   ]
  },
  {
   "cell_type": "markdown",
   "id": "0948635b",
   "metadata": {},
   "source": [
    "### 3.2- Visualizing the Data "
   ]
  },
  {
   "cell_type": "code",
   "execution_count": 18,
   "id": "37b39c38",
   "metadata": {},
   "outputs": [
    {
     "name": "stdout",
     "output_type": "stream",
     "text": [
      "CPU times: total: 0 ns\n",
      "Wall time: 0 ns\n"
     ]
    },
    {
     "data": {
      "image/png": "[encoded data removed]",
      "text/plain": [
       "<Figure size 1200x500 with 2 Axes>"
      ]
     },
     "metadata": {},
     "output_type": "display_data"
    },
    {
     "data": {
      "image/png": "[encoded data removed]",
      "text/plain": [
       "<Figure size 1000x500 with 2 Axes>"
      ]
     },
     "metadata": {},
     "output_type": "display_data"
    },
    {
     "name": "stderr",
     "output_type": "stream",
     "text": [
      "C:\\Users\\abiha\\AppData\\Local\\Temp\\ipykernel_8356\\3950268534.py:25: UserWarning: Ignoring `palette` because no `hue` variable has been assigned.\n",
      "  sns.scatterplot(data=df, x='Likes', y='Retweets', palette='viridis')\n"
     ]
    },
    {
     "data": {
      "image/png": "[encoded data removed]",
      "text/plain": [
       "<Figure size 700x500 with 1 Axes>"
      ]
     },
     "metadata": {},
     "output_type": "display_data"
    }
   ],
   "source": [
    "%time \n",
    "\n",
    "sns.set(style=\"whitegrid\")\n",
    "\n",
    "# Histogram for numerical features\n",
    "df_encoded[['Likes', 'Retweets']].hist(bins=30, figsize=(12, 5), color='#69b3a2')\n",
    "plt.suptitle(\"Histogram of Likes & Retweets\")\n",
    "plt.show()\n",
    "\n",
    "# Boxplots\n",
    "plt.figure(figsize=(10, 5))\n",
    "plt.subplot(1, 2, 1)\n",
    "sns.boxplot(y='Likes', data=df, color='lightblue')\n",
    "plt.title('Likes - Boxplot')\n",
    "\n",
    "plt.subplot(1, 2, 2)\n",
    "sns.boxplot(y='Retweets', data=df, color='lightgreen')\n",
    "plt.title('Retweets - Boxplot')\n",
    "\n",
    "plt.tight_layout()\n",
    "plt.show()\n",
    "\n",
    "# Scatter plot to see relationship\n",
    "plt.figure(figsize=(7, 5))\n",
    "sns.scatterplot(data=df, x='Likes', y='Retweets', palette='viridis')\n",
    "plt.title(\"Likes vs Retweets\")\n",
    "plt.show()"
   ]
  },
  {
   "cell_type": "markdown",
   "id": "4148215b",
   "metadata": {},
   "source": [
    "### 3.3- Correlation Matrix "
   ]
  },
  {
   "cell_type": "code",
   "execution_count": 19,
   "id": "4035628f",
   "metadata": {},
   "outputs": [
    {
     "name": "stdout",
     "output_type": "stream",
     "text": [
      "CPU times: total: 0 ns\n",
      "Wall time: 0 ns\n"
     ]
    },
    {
     "data": {
      "image/png": "[encoded data removed]",
      "text/plain": [
       "<Figure size 800x600 with 2 Axes>"
      ]
     },
     "metadata": {},
     "output_type": "display_data"
    }
   ],
   "source": [
    "%time \n",
    "\n",
    "correlation_matrix = df[['Likes', 'Retweets', 'Hour']].corr()\n",
    "\n",
    "# Heatmap for visualization\n",
    "plt.figure(figsize=(8, 6))\n",
    "sns.heatmap(correlation_matrix, annot=True, cmap='coolwarm', linewidths=0.5)\n",
    "plt.title(\"Correlation Matrix of Numeric Features\")\n",
    "plt.show()\n"
   ]
  },
  {
   "cell_type": "markdown",
   "id": "5d14b0f5",
   "metadata": {},
   "source": [
    "## EDA Summary Insights\n",
    "\n",
    "- **Likes & Retweets** are generally well-distributed with no major outliers.\n",
    "- **Most posts** tend to get low to moderate engagement, but a few get high likes/retweets (long tail).\n",
    "- **Scatter plot** shows a positive correlation between Likes and Retweets — as likes increase, retweets often increase too.\n",
    "- **Correlation Matrix** confirms this with a strong positive correlation between these two variables.\n",
    "- There are no strong correlations between Hour and engagement, meaning post time might not directly influence sentiment spread.\n",
    "- **Boxplots** show that sentiment distribution is fairly balanced, with no feature heavily skewing the dataset.\n"
   ]
  },
  {
   "cell_type": "markdown",
   "id": "72795e87",
   "metadata": {},
   "source": [
    "# **4- Predictive Modelling (Regression)**"
   ]
  },
  {
   "cell_type": "markdown",
   "id": "c5a7515d",
   "metadata": {},
   "source": [
    "#### Converting the Catrgorical to Numerical "
   ]
  },
  {
   "cell_type": "code",
   "execution_count": 20,
   "id": "d31d4659",
   "metadata": {},
   "outputs": [
    {
     "name": "stdout",
     "output_type": "stream",
     "text": [
      "CPU times: total: 0 ns\n",
      "Wall time: 0 ns\n"
     ]
    }
   ],
   "source": [
    "%time\n",
    "\n",
    "# Encode categorical columns\n",
    "label_enc = LabelEncoder()\n",
    "df['Sentiment'] = label_enc.fit_transform(df['Sentiment'])\n",
    "df['Platform'] = label_enc.fit_transform(df['Platform'])\n",
    "df['Country'] = label_enc.fit_transform(df['Country'])"
   ]
  },
  {
   "cell_type": "markdown",
   "id": "1015d467",
   "metadata": {},
   "source": [
    "#### Defining the features and Target "
   ]
  },
  {
   "cell_type": "code",
   "execution_count": 21,
   "id": "77fefef2",
   "metadata": {},
   "outputs": [
    {
     "name": "stdout",
     "output_type": "stream",
     "text": [
      "CPU times: total: 0 ns\n",
      "Wall time: 0 ns\n"
     ]
    }
   ],
   "source": [
    "%time\n",
    "\n",
    "X = df[['Sentiment', 'Platform', 'Retweets', 'Year', 'Month', 'Day', 'Hour', 'Country']]\n",
    "y = df['Likes']"
   ]
  },
  {
   "cell_type": "markdown",
   "id": "1f1d5bb2",
   "metadata": {},
   "source": [
    "#### Train the test Spilit "
   ]
  },
  {
   "cell_type": "code",
   "execution_count": 22,
   "id": "f82a022e",
   "metadata": {},
   "outputs": [
    {
     "name": "stdout",
     "output_type": "stream",
     "text": [
      "CPU times: total: 0 ns\n",
      "Wall time: 0 ns\n"
     ]
    }
   ],
   "source": [
    "%time \n",
    "\n",
    "X_train, X_test, y_train, y_test = train_test_split(X, y, test_size=0.2, random_state=42)"
   ]
  },
  {
   "cell_type": "markdown",
   "id": "48cd340a",
   "metadata": {},
   "source": [
    "#### Train the Linear Regression Model "
   ]
  },
  {
   "cell_type": "code",
   "execution_count": 23,
   "id": "e2360377",
   "metadata": {},
   "outputs": [
    {
     "name": "stdout",
     "output_type": "stream",
     "text": [
      "CPU times: total: 0 ns\n",
      "Wall time: 0 ns\n"
     ]
    }
   ],
   "source": [
    "%time \n",
    "\n",
    "lr_model = LinearRegression()\n",
    "lr_model.fit(X_train, y_train)\n",
    "\n",
    "# Predictions\n",
    "lr_preds = lr_model.predict(X_test)"
   ]
  },
  {
   "cell_type": "markdown",
   "id": "afe701f0",
   "metadata": {},
   "source": [
    "#### Evalute the Model "
   ]
  },
  {
   "cell_type": "code",
   "execution_count": 24,
   "id": "f023ad56",
   "metadata": {},
   "outputs": [
    {
     "name": "stdout",
     "output_type": "stream",
     "text": [
      "CPU times: total: 0 ns\n",
      "Wall time: 0 ns\n",
      "Mean Squared Error: 0.4179467137390843\n",
      "R-squared: 0.9979646011901306\n"
     ]
    }
   ],
   "source": [
    "%time \n",
    "\n",
    "mse = mean_squared_error(y_test, lr_preds)\n",
    "r2 = r2_score(y_test, lr_preds)\n",
    "\n",
    "print(f\"Mean Squared Error: {mse}\")\n",
    "print(f\"R-squared: {r2}\")"
   ]
  },
  {
   "cell_type": "markdown",
   "id": "1ffee0d1",
   "metadata": {},
   "source": [
    "#### Comparing with other Models "
   ]
  },
  {
   "cell_type": "code",
   "execution_count": 25,
   "id": "36ce865b",
   "metadata": {},
   "outputs": [
    {
     "name": "stdout",
     "output_type": "stream",
     "text": [
      "CPU times: total: 0 ns\n",
      "Wall time: 0 ns\n",
      "Decision Tree R2: 0.9985754433569144\n",
      "Random Forest R2: 0.999199998805545\n"
     ]
    }
   ],
   "source": [
    "%time \n",
    "\n",
    "# Decision Tree\n",
    "dt_model = DecisionTreeRegressor()\n",
    "dt_model.fit(X_train, y_train)\n",
    "dt_preds = dt_model.predict(X_test)\n",
    "\n",
    "# Random Forest\n",
    "rf_model = RandomForestRegressor()\n",
    "rf_model.fit(X_train, y_train)\n",
    "rf_preds = rf_model.predict(X_test)\n",
    "\n",
    "# Evaluate\n",
    "print(\"Decision Tree R2:\", r2_score(y_test, dt_preds))\n",
    "print(\"Random Forest R2:\", r2_score(y_test, rf_preds))"
   ]
  },
  {
   "cell_type": "markdown",
   "id": "df0b96b8",
   "metadata": {},
   "source": [
    "#### Visualizing the Models "
   ]
  },
  {
   "cell_type": "code",
   "execution_count": 26,
   "id": "9fc5e445",
   "metadata": {},
   "outputs": [
    {
     "name": "stdout",
     "output_type": "stream",
     "text": [
      "CPU times: total: 0 ns\n",
      "Wall time: 0 ns\n"
     ]
    },
    {
     "data": {
      "image/png": "[encoded data removed]",
      "text/plain": [
       "<Figure size 800x500 with 1 Axes>"
      ]
     },
     "metadata": {},
     "output_type": "display_data"
    }
   ],
   "source": [
    "%time \n",
    "\n",
    "# Plot Actual vs Predicted for Random Forest\n",
    "plt.figure(figsize=(8, 5))\n",
    "plt.scatter(y_test, rf_preds, color='green', alpha=0.6, label='Random Forest')\n",
    "plt.scatter(y_test, dt_preds, color='orange', alpha=0.5, label='Decision Tree')\n",
    "plt.plot(y_test, y_test, color='red', label='Perfect Prediction Line')\n",
    "plt.xlabel(\"Actual Values\")\n",
    "plt.ylabel(\"Predicted Values\")\n",
    "plt.title(\"Actual vs Predicted Values\")\n",
    "plt.legend()\n",
    "plt.grid(True)\n",
    "plt.tight_layout()\n",
    "plt.show()\n"
   ]
  },
  {
   "cell_type": "markdown",
   "id": "622eb5cd",
   "metadata": {},
   "source": [
    "# **5- Classification with Logistics Regression**"
   ]
  },
  {
   "cell_type": "markdown",
   "id": "2db1c4ad",
   "metadata": {},
   "source": [
    "#### Creating the Target Columns "
   ]
  },
  {
   "cell_type": "code",
   "execution_count": 27,
   "id": "6e1c11b9",
   "metadata": {},
   "outputs": [
    {
     "name": "stdout",
     "output_type": "stream",
     "text": [
      "CPU times: total: 0 ns\n",
      "Wall time: 0 ns\n"
     ]
    }
   ],
   "source": [
    "%time \n",
    "\n",
    "# Example: Trend based on Likes vs Retweets\n",
    "df['Engagement_Trend'] = (df['Likes'] > df['Retweets']).astype(int)"
   ]
  },
  {
   "cell_type": "markdown",
   "id": "f69bdd11",
   "metadata": {},
   "source": [
    "#### Feature Selection and Preprocessing "
   ]
  },
  {
   "cell_type": "code",
   "execution_count": 28,
   "id": "c0e4c407",
   "metadata": {},
   "outputs": [
    {
     "name": "stdout",
     "output_type": "stream",
     "text": [
      "CPU times: total: 0 ns\n",
      "Wall time: 0 ns\n"
     ]
    }
   ],
   "source": [
    "%time \n",
    "\n",
    "# Use columns that exist in df\n",
    "X = df[['Sentiment', 'Platform', 'Retweets', 'Year', 'Month', 'Day', 'Hour', 'Country']]\n",
    "y = df['Engagement_Trend']\n",
    "\n",
    "scaler = StandardScaler()\n",
    "X_scaled = scaler.fit_transform(X)"
   ]
  },
  {
   "cell_type": "markdown",
   "id": "938bee85",
   "metadata": {},
   "source": [
    "#### Train the Test Split "
   ]
  },
  {
   "cell_type": "code",
   "execution_count": 29,
   "id": "36a4a474",
   "metadata": {},
   "outputs": [
    {
     "name": "stdout",
     "output_type": "stream",
     "text": [
      "CPU times: total: 0 ns\n",
      "Wall time: 0 ns\n"
     ]
    }
   ],
   "source": [
    "%time \n",
    "\n",
    "\n",
    "X_train, X_test, y_train, y_test = train_test_split(X_scaled, y, test_size=0.2, random_state=42)"
   ]
  },
  {
   "cell_type": "markdown",
   "id": "0f5e7a64",
   "metadata": {},
   "source": [
    "#### Train the Logistics Regression Model "
   ]
  },
  {
   "cell_type": "code",
   "execution_count": 30,
   "id": "893c650a",
   "metadata": {},
   "outputs": [
    {
     "name": "stdout",
     "output_type": "stream",
     "text": [
      "CPU times: total: 0 ns\n",
      "Wall time: 0 ns\n",
      "Unique classes in y_train: [1]\n",
      "Error: y_train contains only one class. Classification requires at least two classes.\n"
     ]
    }
   ],
   "source": [
    "%time \n",
    "\n",
    "# Check class distribution\n",
    "unique_classes = np.unique(y_train)\n",
    "print(\"Unique classes in y_train:\", unique_classes)\n",
    "\n",
    "if len(unique_classes) < 2:\n",
    "\tprint(\"Error: y_train contains only one class. Classification requires at least two classes.\")\n",
    "else:\n",
    "\tlr_clf = LogisticRegression()\n",
    "\tlr_clf.fit(X_train, y_train)\n",
    "\ty_pred = lr_clf.predict(X_test)"
   ]
  },
  {
   "cell_type": "markdown",
   "id": "8da3635f",
   "metadata": {},
   "source": [
    "#### Evaluation of the Metrics "
   ]
  },
  {
   "cell_type": "code",
   "execution_count": null,
   "id": "bebd86bb",
   "metadata": {},
   "outputs": [
    {
     "name": "stdout",
     "output_type": "stream",
     "text": [
      "CPU times: total: 0 ns\n",
      "Wall time: 0 ns\n",
      "Classification was not performed because y_train contains only one class.\n"
     ]
    }
   ],
   "source": [
    "%time \n",
    "\n",
    "if 'y_pred' in locals():\n",
    "\tprint(\"Accuracy:\", accuracy_score(y_train, y_pred))\n",
    "\tprint(\"Precision:\", precision_score(y_train, y_pred))\n",
    "\tprint(\"Recall:\", recall_score(y_test, y_pred))\n",
    "\tfrom sklearn.metrics import roc_auc_score, classification_report\n",
    "\tprint(\"ROC AUC:\", roc_auc_score(y_train, y_pred))\n",
    "\tprint(\"\\nClassification Report:\\n\", classification_report(y_train, y_pred))\n",
    "else:\n",
    "\tprint(\"Classification was not performed because y_train contains only one class.\")"
   ]
  },
  {
   "cell_type": "markdown",
   "id": "1ead3bfd",
   "metadata": {},
   "source": [
    "#### Comparing with Other Models "
   ]
  },
  {
   "cell_type": "code",
   "execution_count": 32,
   "id": "e1d8d5e0",
   "metadata": {},
   "outputs": [
    {
     "name": "stdout",
     "output_type": "stream",
     "text": [
      "CPU times: total: 0 ns\n",
      "Wall time: 0 ns\n",
      "Error: y_train contains only one class. Classification requires at least two classes.\n"
     ]
    }
   ],
   "source": [
    "%time\n",
    "\n",
    "from sklearn.svm import SVC\n",
    "\n",
    "unique_classes = np.unique(y_train)\n",
    "if len(unique_classes) < 2:\n",
    "\tprint(\"Error: y_train contains only one class. Classification requires at least two classes.\")\n",
    "else:\n",
    "\t# Random Forest\n",
    "\trf_clf = RandomForestClassifier()\n",
    "\trf_clf.fit(X_train, y_train)\n",
    "\trf_pred = rf_clf.predict(X_test)\n",
    "\n",
    "\t# SVM\n",
    "\tsvm_clf = SVC()\n",
    "\tsvm_clf.fit(X_train, y_train)\n",
    "\tsvm_pred = svm_clf.predict(X_test)\n",
    "\n",
    "\t# Compare\n",
    "\tprint(\"Random Forest Accuracy:\", accuracy_score(y_test, rf_pred))\n",
    "\tprint(\"SVM Accuracy:\", accuracy_score(y_test, svm_pred))"
   ]
  },
  {
   "cell_type": "markdown",
   "id": "6c7bf6f2",
   "metadata": {},
   "source": [
    "# **6- Clustering (Un-Supervised Learning)**"
   ]
  },
  {
   "cell_type": "markdown",
   "id": "6481e2de",
   "metadata": {},
   "source": [
    "#### 6.1- Applying the K-Mean "
   ]
  },
  {
   "cell_type": "code",
   "execution_count": 33,
   "id": "ee16c13f",
   "metadata": {},
   "outputs": [
    {
     "name": "stdout",
     "output_type": "stream",
     "text": [
      "CPU times: total: 0 ns\n",
      "Wall time: 0 ns\n"
     ]
    },
    {
     "name": "stderr",
     "output_type": "stream",
     "text": [
      "d:\\Users\\abiha\\anaconda3\\Lib\\site-packages\\sklearn\\cluster\\_kmeans.py:1429: UserWarning: KMeans is known to have a memory leak on Windows with MKL, when there are less chunks than available threads. You can avoid it by setting the environment variable OMP_NUM_THREADS=3.\n",
      "  warnings.warn(\n"
     ]
    }
   ],
   "source": [
    "%time \n",
    "\n",
    "#Set number of clusters\n",
    "k = 3  \n",
    "kmeans = KMeans(n_clusters=k, random_state=42)\n",
    "kmeans.fit(X)\n",
    "labels = kmeans.labels_\n",
    "\n",
    "# Add cluster labels to the dataset\n",
    "df['Cluster'] = labels"
   ]
  },
  {
   "cell_type": "markdown",
   "id": "c40d1990",
   "metadata": {},
   "source": [
    "#### 6.2- Elbow Method "
   ]
  },
  {
   "cell_type": "code",
   "execution_count": 34,
   "id": "0564c6af",
   "metadata": {},
   "outputs": [
    {
     "name": "stderr",
     "output_type": "stream",
     "text": [
      "d:\\Users\\abiha\\anaconda3\\Lib\\site-packages\\sklearn\\cluster\\_kmeans.py:1429: UserWarning: KMeans is known to have a memory leak on Windows with MKL, when there are less chunks than available threads. You can avoid it by setting the environment variable OMP_NUM_THREADS=3.\n",
      "  warnings.warn(\n",
      "d:\\Users\\abiha\\anaconda3\\Lib\\site-packages\\sklearn\\cluster\\_kmeans.py:1429: UserWarning: KMeans is known to have a memory leak on Windows with MKL, when there are less chunks than available threads. You can avoid it by setting the environment variable OMP_NUM_THREADS=3.\n",
      "  warnings.warn(\n",
      "d:\\Users\\abiha\\anaconda3\\Lib\\site-packages\\sklearn\\cluster\\_kmeans.py:1429: UserWarning: KMeans is known to have a memory leak on Windows with MKL, when there are less chunks than available threads. You can avoid it by setting the environment variable OMP_NUM_THREADS=3.\n",
      "  warnings.warn(\n"
     ]
    },
    {
     "name": "stdout",
     "output_type": "stream",
     "text": [
      "CPU times: total: 0 ns\n",
      "Wall time: 0 ns\n"
     ]
    },
    {
     "name": "stderr",
     "output_type": "stream",
     "text": [
      "d:\\Users\\abiha\\anaconda3\\Lib\\site-packages\\sklearn\\cluster\\_kmeans.py:1429: UserWarning: KMeans is known to have a memory leak on Windows with MKL, when there are less chunks than available threads. You can avoid it by setting the environment variable OMP_NUM_THREADS=3.\n",
      "  warnings.warn(\n",
      "d:\\Users\\abiha\\anaconda3\\Lib\\site-packages\\sklearn\\cluster\\_kmeans.py:1429: UserWarning: KMeans is known to have a memory leak on Windows with MKL, when there are less chunks than available threads. You can avoid it by setting the environment variable OMP_NUM_THREADS=3.\n",
      "  warnings.warn(\n",
      "d:\\Users\\abiha\\anaconda3\\Lib\\site-packages\\sklearn\\cluster\\_kmeans.py:1429: UserWarning: KMeans is known to have a memory leak on Windows with MKL, when there are less chunks than available threads. You can avoid it by setting the environment variable OMP_NUM_THREADS=3.\n",
      "  warnings.warn(\n",
      "d:\\Users\\abiha\\anaconda3\\Lib\\site-packages\\sklearn\\cluster\\_kmeans.py:1429: UserWarning: KMeans is known to have a memory leak on Windows with MKL, when there are less chunks than available threads. You can avoid it by setting the environment variable OMP_NUM_THREADS=3.\n",
      "  warnings.warn(\n",
      "d:\\Users\\abiha\\anaconda3\\Lib\\site-packages\\sklearn\\cluster\\_kmeans.py:1429: UserWarning: KMeans is known to have a memory leak on Windows with MKL, when there are less chunks than available threads. You can avoid it by setting the environment variable OMP_NUM_THREADS=3.\n",
      "  warnings.warn(\n",
      "d:\\Users\\abiha\\anaconda3\\Lib\\site-packages\\sklearn\\cluster\\_kmeans.py:1429: UserWarning: KMeans is known to have a memory leak on Windows with MKL, when there are less chunks than available threads. You can avoid it by setting the environment variable OMP_NUM_THREADS=3.\n",
      "  warnings.warn(\n",
      "d:\\Users\\abiha\\anaconda3\\Lib\\site-packages\\sklearn\\cluster\\_kmeans.py:1429: UserWarning: KMeans is known to have a memory leak on Windows with MKL, when there are less chunks than available threads. You can avoid it by setting the environment variable OMP_NUM_THREADS=3.\n",
      "  warnings.warn(\n"
     ]
    },
    {
     "data": {
      "image/png": "[encoded data removed]",
      "text/plain": [
       "<Figure size 800x500 with 1 Axes>"
      ]
     },
     "metadata": {},
     "output_type": "display_data"
    }
   ],
   "source": [
    "%time \n",
    "\n",
    "inertia = []\n",
    "k_range = range(1, 11)\n",
    "\n",
    "for i in k_range:\n",
    "    km = KMeans(n_clusters=i, random_state=42)\n",
    "    km.fit(X)\n",
    "    inertia.append(km.inertia_)\n",
    "\n",
    "plt.figure(figsize=(8, 5))\n",
    "plt.plot(k_range, inertia, marker='o')\n",
    "plt.title(\"Elbow Method to Find Optimal Clusters\")\n",
    "plt.xlabel(\"Number of Clusters (K)\")\n",
    "plt.ylabel(\"Inertia\")\n",
    "plt.grid(True)\n",
    "plt.show()"
   ]
  },
  {
   "cell_type": "markdown",
   "id": "765af8ea",
   "metadata": {},
   "source": [
    "#### 6.3- Visualizing the Clusters in 2D using PCA "
   ]
  },
  {
   "cell_type": "code",
   "execution_count": 35,
   "id": "720eeb1e",
   "metadata": {},
   "outputs": [
    {
     "name": "stdout",
     "output_type": "stream",
     "text": [
      "CPU times: total: 0 ns\n",
      "Wall time: 0 ns\n"
     ]
    },
    {
     "data": {
      "image/png": "[encoded data removed]",
      "text/plain": [
       "<Figure size 1000x600 with 1 Axes>"
      ]
     },
     "metadata": {},
     "output_type": "display_data"
    }
   ],
   "source": [
    "%time \n",
    "\n",
    "pca = PCA(n_components=2)\n",
    "reduced_X = pca.fit_transform(X)\n",
    "\n",
    "df['PCA1'] = reduced_X[:, 0]\n",
    "df['PCA2'] = reduced_X[:, 1]\n",
    "\n",
    "plt.figure(figsize=(10, 6))\n",
    "sns.scatterplot(data=df, x='PCA1', y='PCA2', hue='Cluster', palette='Set2')\n",
    "plt.title(\"K-Means Clustering (Visualized with PCA)\")\n",
    "plt.xlabel(\"PCA Component 1\")\n",
    "plt.ylabel(\"PCA Component 2\")\n",
    "plt.legend()\n",
    "plt.show()"
   ]
  },
  {
   "cell_type": "markdown",
   "id": "92cb1530",
   "metadata": {},
   "source": [
    "#### **6.4- Key Findings** "
   ]
  },
  {
   "cell_type": "markdown",
   "id": "b2f53441",
   "metadata": {},
   "source": [
    "#### In the clustering task, we applied K-Means clustering to the sentiment analysis dataset to group similar sentiment texts into distinct clusters without relying on any labels.To determine the optimal number of clusters (k), we used the Elbow Method, which suggested a point where increasing the number of clusters no longer significantly reduced the within-cluster variance. Once the optimal k was chosen, we implemented K-Means clustering and used PCA (Principal Component Analysis) to reduce the high-dimensional data into two dimensions for visual representation. The resulting plot showed clear separation between the clusters, indicating that the model successfully grouped similar sentiment expressions together.This unsupervised approach effectively uncovered the underlying emotional patterns in the data, providing valuable insights into the mood and mindset expressed through the textual content. The clarity of these clusters not only validates the usefulness of K-Means in handling textual data but also opens up opportunities for further targeted analysis and applications in sentiment-based decision-making systems"
   ]
  },
  {
   "cell_type": "markdown",
   "id": "55fcc96a",
   "metadata": {},
   "source": [
    "#### **Time Series Analysis** is not required here, because we dont have the dataset lacks a numeric variable that changes over time, which is essential for forecasting tasks like ARIMA or moving averages."
   ]
  },
  {
   "cell_type": "markdown",
   "id": "80951825",
   "metadata": {},
   "source": [
    "# **7- Natural Language Processing (NLP) - Text Classification**"
   ]
  },
  {
   "cell_type": "code",
   "execution_count": 36,
   "id": "6241d446",
   "metadata": {},
   "outputs": [
    {
     "name": "stdout",
     "output_type": "stream",
     "text": [
      "CPU times: total: 0 ns\n",
      "Wall time: 0 ns\n"
     ]
    },
    {
     "name": "stderr",
     "output_type": "stream",
     "text": [
      "[nltk_data] Downloading package punkt to\n",
      "[nltk_data]     C:\\Users\\abiha\\AppData\\Roaming\\nltk_data...\n",
      "[nltk_data]   Package punkt is already up-to-date!\n",
      "[nltk_data] Downloading package stopwords to\n",
      "[nltk_data]     C:\\Users\\abiha\\AppData\\Roaming\\nltk_data...\n",
      "[nltk_data]   Package stopwords is already up-to-date!\n",
      "[nltk_data] Downloading package wordnet to\n",
      "[nltk_data]     C:\\Users\\abiha\\AppData\\Roaming\\nltk_data...\n",
      "[nltk_data]   Package wordnet is already up-to-date!\n"
     ]
    },
    {
     "data": {
      "text/plain": [
       "True"
      ]
     },
     "execution_count": 36,
     "metadata": {},
     "output_type": "execute_result"
    }
   ],
   "source": [
    "%time \n",
    "\n",
    "## Downloading the packages \n",
    "nltk.download('punkt')\n",
    "nltk.download('stopwords')\n",
    "nltk.download('wordnet')"
   ]
  },
  {
   "cell_type": "markdown",
   "id": "a8db8105",
   "metadata": {},
   "source": [
    "### 7.2- Converting Text to Numbers (Vectorization)"
   ]
  },
  {
   "cell_type": "code",
   "execution_count": 37,
   "id": "9d4f5fc6",
   "metadata": {},
   "outputs": [
    {
     "name": "stdout",
     "output_type": "stream",
     "text": [
      "CPU times: total: 0 ns\n",
      "Wall time: 0 ns\n"
     ]
    }
   ],
   "source": [
    "%time\n",
    "\n",
    "from sklearn.feature_extraction.text import TfidfVectorizer\n",
    "\n",
    "# Create a cleaned_text column if it doesn't exist\n",
    "if 'cleaned_text' not in df.columns:\n",
    "\tdf['cleaned_text'] = df['Text'].str.lower().str.replace(r'[^a-z\\s]', '', regex=True)\n",
    "\n",
    "vectorizer = TfidfVectorizer()\n",
    "X = vectorizer.fit_transform(df['cleaned_text'])"
   ]
  },
  {
   "cell_type": "markdown",
   "id": "b2dcaecb",
   "metadata": {},
   "source": [
    "### Train the test "
   ]
  },
  {
   "cell_type": "code",
   "execution_count": 38,
   "id": "5e9fe50b",
   "metadata": {},
   "outputs": [
    {
     "name": "stdout",
     "output_type": "stream",
     "text": [
      "CPU times: total: 0 ns\n",
      "Wall time: 0 ns\n"
     ]
    }
   ],
   "source": [
    "%time \n",
    "\n",
    "# Assume sentiment column is the target variable\n",
    "y = df['Sentiment']\n",
    "X_train, X_test, y_train, y_test = train_test_split(X, y, test_size=0.2, random_state=42)"
   ]
  },
  {
   "cell_type": "markdown",
   "id": "b523ba23",
   "metadata": {},
   "source": [
    "### 7.3- Train the Classifiers "
   ]
  },
  {
   "cell_type": "code",
   "execution_count": 39,
   "id": "fb96b832",
   "metadata": {},
   "outputs": [
    {
     "name": "stdout",
     "output_type": "stream",
     "text": [
      "CPU times: total: 0 ns\n",
      "Wall time: 0 ns\n"
     ]
    },
    {
     "data": {
      "text/html": [
       "<style>#sk-container-id-1 {\n",
       "  /* Definition of color scheme common for light and dark mode */\n",
       "  --sklearn-color-text: black;\n",
       "  --sklearn-color-line: gray;\n",
       "  /* Definition of color scheme for unfitted estimators */\n",
       "  --sklearn-color-unfitted-level-0: #fff5e6;\n",
       "  --sklearn-color-unfitted-level-1: #f6e4d2;\n",
       "  --sklearn-color-unfitted-level-2: #ffe0b3;\n",
       "  --sklearn-color-unfitted-level-3: chocolate;\n",
       "  /* Definition of color scheme for fitted estimators */\n",
       "  --sklearn-color-fitted-level-0: #f0f8ff;\n",
       "  --sklearn-color-fitted-level-1: #d4ebff;\n",
       "  --sklearn-color-fitted-level-2: #b3dbfd;\n",
       "  --sklearn-color-fitted-level-3: cornflowerblue;\n",
       "\n",
       "  /* Specific color for light theme */\n",
       "  --sklearn-color-text-on-default-background: var(--sg-text-color, var(--theme-code-foreground, var(--jp-content-font-color1, black)));\n",
       "  --sklearn-color-background: var(--sg-background-color, var(--theme-background, var(--jp-layout-color0, white)));\n",
       "  --sklearn-color-border-box: var(--sg-text-color, var(--theme-code-foreground, var(--jp-content-font-color1, black)));\n",
       "  --sklearn-color-icon: #696969;\n",
       "\n",
       "  @media (prefers-color-scheme: dark) {\n",
       "    /* Redefinition of color scheme for dark theme */\n",
       "    --sklearn-color-text-on-default-background: var(--sg-text-color, var(--theme-code-foreground, var(--jp-content-font-color1, white)));\n",
       "    --sklearn-color-background: var(--sg-background-color, var(--theme-background, var(--jp-layout-color0, #111)));\n",
       "    --sklearn-color-border-box: var(--sg-text-color, var(--theme-code-foreground, var(--jp-content-font-color1, white)));\n",
       "    --sklearn-color-icon: #878787;\n",
       "  }\n",
       "}\n",
       "\n",
       "#sk-container-id-1 {\n",
       "  color: var(--sklearn-color-text);\n",
       "}\n",
       "\n",
       "#sk-container-id-1 pre {\n",
       "  padding: 0;\n",
       "}\n",
       "\n",
       "#sk-container-id-1 input.sk-hidden--visually {\n",
       "  border: 0;\n",
       "  clip: rect(1px 1px 1px 1px);\n",
       "  clip: rect(1px, 1px, 1px, 1px);\n",
       "  height: 1px;\n",
       "  margin: -1px;\n",
       "  overflow: hidden;\n",
       "  padding: 0;\n",
       "  position: absolute;\n",
       "  width: 1px;\n",
       "}\n",
       "\n",
       "#sk-container-id-1 div.sk-dashed-wrapped {\n",
       "  border: 1px dashed var(--sklearn-color-line);\n",
       "  margin: 0 0.4em 0.5em 0.4em;\n",
       "  box-sizing: border-box;\n",
       "  padding-bottom: 0.4em;\n",
       "  background-color: var(--sklearn-color-background);\n",
       "}\n",
       "\n",
       "#sk-container-id-1 div.sk-container {\n",
       "  /* jupyter's `normalize.less` sets `[hidden] { display: none; }`\n",
       "     but bootstrap.min.css set `[hidden] { display: none !important; }`\n",
       "     so we also need the `!important` here to be able to override the\n",
       "     default hidden behavior on the sphinx rendered scikit-learn.org.\n",
       "     See: https://github.com/scikit-learn/scikit-learn/issues/21755 */\n",
       "  display: inline-block !important;\n",
       "  position: relative;\n",
       "}\n",
       "\n",
       "#sk-container-id-1 div.sk-text-repr-fallback {\n",
       "  display: none;\n",
       "}\n",
       "\n",
       "div.sk-parallel-item,\n",
       "div.sk-serial,\n",
       "div.sk-item {\n",
       "  /* draw centered vertical line to link estimators */\n",
       "  background-image: linear-gradient(var(--sklearn-color-text-on-default-background), var(--sklearn-color-text-on-default-background));\n",
       "  background-size: 2px 100%;\n",
       "  background-repeat: no-repeat;\n",
       "  background-position: center center;\n",
       "}\n",
       "\n",
       "/* Parallel-specific style estimator block */\n",
       "\n",
       "#sk-container-id-1 div.sk-parallel-item::after {\n",
       "  content: \"\";\n",
       "  width: 100%;\n",
       "  border-bottom: 2px solid var(--sklearn-color-text-on-default-background);\n",
       "  flex-grow: 1;\n",
       "}\n",
       "\n",
       "#sk-container-id-1 div.sk-parallel {\n",
       "  display: flex;\n",
       "  align-items: stretch;\n",
       "  justify-content: center;\n",
       "  background-color: var(--sklearn-color-background);\n",
       "  position: relative;\n",
       "}\n",
       "\n",
       "#sk-container-id-1 div.sk-parallel-item {\n",
       "  display: flex;\n",
       "  flex-direction: column;\n",
       "}\n",
       "\n",
       "#sk-container-id-1 div.sk-parallel-item:first-child::after {\n",
       "  align-self: flex-end;\n",
       "  width: 50%;\n",
       "}\n",
       "\n",
       "#sk-container-id-1 div.sk-parallel-item:last-child::after {\n",
       "  align-self: flex-start;\n",
       "  width: 50%;\n",
       "}\n",
       "\n",
       "#sk-container-id-1 div.sk-parallel-item:only-child::after {\n",
       "  width: 0;\n",
       "}\n",
       "\n",
       "/* Serial-specific style estimator block */\n",
       "\n",
       "#sk-container-id-1 div.sk-serial {\n",
       "  display: flex;\n",
       "  flex-direction: column;\n",
       "  align-items: center;\n",
       "  background-color: var(--sklearn-color-background);\n",
       "  padding-right: 1em;\n",
       "  padding-left: 1em;\n",
       "}\n",
       "\n",
       "\n",
       "/* Toggleable style: style used for estimator/Pipeline/ColumnTransformer box that is\n",
       "clickable and can be expanded/collapsed.\n",
       "- Pipeline and ColumnTransformer use this feature and define the default style\n",
       "- Estimators will overwrite some part of the style using the `sk-estimator` class\n",
       "*/\n",
       "\n",
       "/* Pipeline and ColumnTransformer style (default) */\n",
       "\n",
       "#sk-container-id-1 div.sk-toggleable {\n",
       "  /* Default theme specific background. It is overwritten whether we have a\n",
       "  specific estimator or a Pipeline/ColumnTransformer */\n",
       "  background-color: var(--sklearn-color-background);\n",
       "}\n",
       "\n",
       "/* Toggleable label */\n",
       "#sk-container-id-1 label.sk-toggleable__label {\n",
       "  cursor: pointer;\n",
       "  display: block;\n",
       "  width: 100%;\n",
       "  margin-bottom: 0;\n",
       "  padding: 0.5em;\n",
       "  box-sizing: border-box;\n",
       "  text-align: center;\n",
       "}\n",
       "\n",
       "#sk-container-id-1 label.sk-toggleable__label-arrow:before {\n",
       "  /* Arrow on the left of the label */\n",
       "  content: \"▸\";\n",
       "  float: left;\n",
       "  margin-right: 0.25em;\n",
       "  color: var(--sklearn-color-icon);\n",
       "}\n",
       "\n",
       "#sk-container-id-1 label.sk-toggleable__label-arrow:hover:before {\n",
       "  color: var(--sklearn-color-text);\n",
       "}\n",
       "\n",
       "/* Toggleable content - dropdown */\n",
       "\n",
       "#sk-container-id-1 div.sk-toggleable__content {\n",
       "  max-height: 0;\n",
       "  max-width: 0;\n",
       "  overflow: hidden;\n",
       "  text-align: left;\n",
       "  /* unfitted */\n",
       "  background-color: var(--sklearn-color-unfitted-level-0);\n",
       "}\n",
       "\n",
       "#sk-container-id-1 div.sk-toggleable__content.fitted {\n",
       "  /* fitted */\n",
       "  background-color: var(--sklearn-color-fitted-level-0);\n",
       "}\n",
       "\n",
       "#sk-container-id-1 div.sk-toggleable__content pre {\n",
       "  margin: 0.2em;\n",
       "  border-radius: 0.25em;\n",
       "  color: var(--sklearn-color-text);\n",
       "  /* unfitted */\n",
       "  background-color: var(--sklearn-color-unfitted-level-0);\n",
       "}\n",
       "\n",
       "#sk-container-id-1 div.sk-toggleable__content.fitted pre {\n",
       "  /* unfitted */\n",
       "  background-color: var(--sklearn-color-fitted-level-0);\n",
       "}\n",
       "\n",
       "#sk-container-id-1 input.sk-toggleable__control:checked~div.sk-toggleable__content {\n",
       "  /* Expand drop-down */\n",
       "  max-height: 200px;\n",
       "  max-width: 100%;\n",
       "  overflow: auto;\n",
       "}\n",
       "\n",
       "#sk-container-id-1 input.sk-toggleable__control:checked~label.sk-toggleable__label-arrow:before {\n",
       "  content: \"▾\";\n",
       "}\n",
       "\n",
       "/* Pipeline/ColumnTransformer-specific style */\n",
       "\n",
       "#sk-container-id-1 div.sk-label input.sk-toggleable__control:checked~label.sk-toggleable__label {\n",
       "  color: var(--sklearn-color-text);\n",
       "  background-color: var(--sklearn-color-unfitted-level-2);\n",
       "}\n",
       "\n",
       "#sk-container-id-1 div.sk-label.fitted input.sk-toggleable__control:checked~label.sk-toggleable__label {\n",
       "  background-color: var(--sklearn-color-fitted-level-2);\n",
       "}\n",
       "\n",
       "/* Estimator-specific style */\n",
       "\n",
       "/* Colorize estimator box */\n",
       "#sk-container-id-1 div.sk-estimator input.sk-toggleable__control:checked~label.sk-toggleable__label {\n",
       "  /* unfitted */\n",
       "  background-color: var(--sklearn-color-unfitted-level-2);\n",
       "}\n",
       "\n",
       "#sk-container-id-1 div.sk-estimator.fitted input.sk-toggleable__control:checked~label.sk-toggleable__label {\n",
       "  /* fitted */\n",
       "  background-color: var(--sklearn-color-fitted-level-2);\n",
       "}\n",
       "\n",
       "#sk-container-id-1 div.sk-label label.sk-toggleable__label,\n",
       "#sk-container-id-1 div.sk-label label {\n",
       "  /* The background is the default theme color */\n",
       "  color: var(--sklearn-color-text-on-default-background);\n",
       "}\n",
       "\n",
       "/* On hover, darken the color of the background */\n",
       "#sk-container-id-1 div.sk-label:hover label.sk-toggleable__label {\n",
       "  color: var(--sklearn-color-text);\n",
       "  background-color: var(--sklearn-color-unfitted-level-2);\n",
       "}\n",
       "\n",
       "/* Label box, darken color on hover, fitted */\n",
       "#sk-container-id-1 div.sk-label.fitted:hover label.sk-toggleable__label.fitted {\n",
       "  color: var(--sklearn-color-text);\n",
       "  background-color: var(--sklearn-color-fitted-level-2);\n",
       "}\n",
       "\n",
       "/* Estimator label */\n",
       "\n",
       "#sk-container-id-1 div.sk-label label {\n",
       "  font-family: monospace;\n",
       "  font-weight: bold;\n",
       "  display: inline-block;\n",
       "  line-height: 1.2em;\n",
       "}\n",
       "\n",
       "#sk-container-id-1 div.sk-label-container {\n",
       "  text-align: center;\n",
       "}\n",
       "\n",
       "/* Estimator-specific */\n",
       "#sk-container-id-1 div.sk-estimator {\n",
       "  font-family: monospace;\n",
       "  border: 1px dotted var(--sklearn-color-border-box);\n",
       "  border-radius: 0.25em;\n",
       "  box-sizing: border-box;\n",
       "  margin-bottom: 0.5em;\n",
       "  /* unfitted */\n",
       "  background-color: var(--sklearn-color-unfitted-level-0);\n",
       "}\n",
       "\n",
       "#sk-container-id-1 div.sk-estimator.fitted {\n",
       "  /* fitted */\n",
       "  background-color: var(--sklearn-color-fitted-level-0);\n",
       "}\n",
       "\n",
       "/* on hover */\n",
       "#sk-container-id-1 div.sk-estimator:hover {\n",
       "  /* unfitted */\n",
       "  background-color: var(--sklearn-color-unfitted-level-2);\n",
       "}\n",
       "\n",
       "#sk-container-id-1 div.sk-estimator.fitted:hover {\n",
       "  /* fitted */\n",
       "  background-color: var(--sklearn-color-fitted-level-2);\n",
       "}\n",
       "\n",
       "/* Specification for estimator info (e.g. \"i\" and \"?\") */\n",
       "\n",
       "/* Common style for \"i\" and \"?\" */\n",
       "\n",
       ".sk-estimator-doc-link,\n",
       "a:link.sk-estimator-doc-link,\n",
       "a:visited.sk-estimator-doc-link {\n",
       "  float: right;\n",
       "  font-size: smaller;\n",
       "  line-height: 1em;\n",
       "  font-family: monospace;\n",
       "  background-color: var(--sklearn-color-background);\n",
       "  border-radius: 1em;\n",
       "  height: 1em;\n",
       "  width: 1em;\n",
       "  text-decoration: none !important;\n",
       "  margin-left: 1ex;\n",
       "  /* unfitted */\n",
       "  border: var(--sklearn-color-unfitted-level-1) 1pt solid;\n",
       "  color: var(--sklearn-color-unfitted-level-1);\n",
       "}\n",
       "\n",
       ".sk-estimator-doc-link.fitted,\n",
       "a:link.sk-estimator-doc-link.fitted,\n",
       "a:visited.sk-estimator-doc-link.fitted {\n",
       "  /* fitted */\n",
       "  border: var(--sklearn-color-fitted-level-1) 1pt solid;\n",
       "  color: var(--sklearn-color-fitted-level-1);\n",
       "}\n",
       "\n",
       "/* On hover */\n",
       "div.sk-estimator:hover .sk-estimator-doc-link:hover,\n",
       ".sk-estimator-doc-link:hover,\n",
       "div.sk-label-container:hover .sk-estimator-doc-link:hover,\n",
       ".sk-estimator-doc-link:hover {\n",
       "  /* unfitted */\n",
       "  background-color: var(--sklearn-color-unfitted-level-3);\n",
       "  color: var(--sklearn-color-background);\n",
       "  text-decoration: none;\n",
       "}\n",
       "\n",
       "div.sk-estimator.fitted:hover .sk-estimator-doc-link.fitted:hover,\n",
       ".sk-estimator-doc-link.fitted:hover,\n",
       "div.sk-label-container:hover .sk-estimator-doc-link.fitted:hover,\n",
       ".sk-estimator-doc-link.fitted:hover {\n",
       "  /* fitted */\n",
       "  background-color: var(--sklearn-color-fitted-level-3);\n",
       "  color: var(--sklearn-color-background);\n",
       "  text-decoration: none;\n",
       "}\n",
       "\n",
       "/* Span, style for the box shown on hovering the info icon */\n",
       ".sk-estimator-doc-link span {\n",
       "  display: none;\n",
       "  z-index: 9999;\n",
       "  position: relative;\n",
       "  font-weight: normal;\n",
       "  right: .2ex;\n",
       "  padding: .5ex;\n",
       "  margin: .5ex;\n",
       "  width: min-content;\n",
       "  min-width: 20ex;\n",
       "  max-width: 50ex;\n",
       "  color: var(--sklearn-color-text);\n",
       "  box-shadow: 2pt 2pt 4pt #999;\n",
       "  /* unfitted */\n",
       "  background: var(--sklearn-color-unfitted-level-0);\n",
       "  border: .5pt solid var(--sklearn-color-unfitted-level-3);\n",
       "}\n",
       "\n",
       ".sk-estimator-doc-link.fitted span {\n",
       "  /* fitted */\n",
       "  background: var(--sklearn-color-fitted-level-0);\n",
       "  border: var(--sklearn-color-fitted-level-3);\n",
       "}\n",
       "\n",
       ".sk-estimator-doc-link:hover span {\n",
       "  display: block;\n",
       "}\n",
       "\n",
       "/* \"?\"-specific style due to the `<a>` HTML tag */\n",
       "\n",
       "#sk-container-id-1 a.estimator_doc_link {\n",
       "  float: right;\n",
       "  font-size: 1rem;\n",
       "  line-height: 1em;\n",
       "  font-family: monospace;\n",
       "  background-color: var(--sklearn-color-background);\n",
       "  border-radius: 1rem;\n",
       "  height: 1rem;\n",
       "  width: 1rem;\n",
       "  text-decoration: none;\n",
       "  /* unfitted */\n",
       "  color: var(--sklearn-color-unfitted-level-1);\n",
       "  border: var(--sklearn-color-unfitted-level-1) 1pt solid;\n",
       "}\n",
       "\n",
       "#sk-container-id-1 a.estimator_doc_link.fitted {\n",
       "  /* fitted */\n",
       "  border: var(--sklearn-color-fitted-level-1) 1pt solid;\n",
       "  color: var(--sklearn-color-fitted-level-1);\n",
       "}\n",
       "\n",
       "/* On hover */\n",
       "#sk-container-id-1 a.estimator_doc_link:hover {\n",
       "  /* unfitted */\n",
       "  background-color: var(--sklearn-color-unfitted-level-3);\n",
       "  color: var(--sklearn-color-background);\n",
       "  text-decoration: none;\n",
       "}\n",
       "\n",
       "#sk-container-id-1 a.estimator_doc_link.fitted:hover {\n",
       "  /* fitted */\n",
       "  background-color: var(--sklearn-color-fitted-level-3);\n",
       "}\n",
       "</style><div id=\"sk-container-id-1\" class=\"sk-top-container\"><div class=\"sk-text-repr-fallback\"><pre>MultinomialNB()</pre><b>In a Jupyter environment, please rerun this cell to show the HTML representation or trust the notebook. <br />On GitHub, the HTML representation is unable to render, please try loading this page with nbviewer.org.</b></div><div class=\"sk-container\" hidden><div class=\"sk-item\"><div class=\"sk-estimator fitted sk-toggleable\"><input class=\"sk-toggleable__control sk-hidden--visually\" id=\"sk-estimator-id-1\" type=\"checkbox\" checked><label for=\"sk-estimator-id-1\" class=\"sk-toggleable__label fitted sk-toggleable__label-arrow fitted\">&nbsp;&nbsp;MultinomialNB<a class=\"sk-estimator-doc-link fitted\" rel=\"noreferrer\" target=\"_blank\" href=\"https://scikit-learn.org/1.5/modules/generated/sklearn.naive_bayes.MultinomialNB.html\">?<span>Documentation for MultinomialNB</span></a><span class=\"sk-estimator-doc-link fitted\">i<span>Fitted</span></span></label><div class=\"sk-toggleable__content fitted\"><pre>MultinomialNB()</pre></div> </div></div></div></div>"
      ],
      "text/plain": [
       "MultinomialNB()"
      ]
     },
     "execution_count": 39,
     "metadata": {},
     "output_type": "execute_result"
    }
   ],
   "source": [
    "%time \n",
    "\n",
    "#Importng the Libararies \n",
    "from sklearn.naive_bayes import MultinomialNB\n",
    "\n",
    "model = MultinomialNB()\n",
    "model.fit(X_train, y_train)"
   ]
  },
  {
   "cell_type": "markdown",
   "id": "332b5e49",
   "metadata": {},
   "source": [
    "### 7.4-Evaluate the Model "
   ]
  },
  {
   "cell_type": "code",
   "execution_count": 40,
   "id": "07e414ca",
   "metadata": {},
   "outputs": [
    {
     "name": "stdout",
     "output_type": "stream",
     "text": [
      "CPU times: total: 0 ns\n",
      "Wall time: 0 ns\n",
      "              precision    recall  f1-score   support\n",
      "\n",
      "           0       0.00      0.00      0.00         2\n",
      "           3       0.00      0.00      0.00         1\n",
      "           5       0.00      0.00      0.00         1\n",
      "           9       0.00      0.00      0.00         1\n",
      "          12       0.00      0.00      0.00         1\n",
      "          15       0.00      0.00      0.00         1\n",
      "          17       0.00      0.00      0.00         1\n",
      "          22       0.00      0.00      0.00         3\n",
      "          24       0.00      0.00      0.00         1\n",
      "          26       0.00      0.00      0.00         1\n",
      "          28       0.00      0.00      0.00         1\n",
      "          29       0.00      0.00      0.00         2\n",
      "          30       0.00      0.00      0.00         1\n",
      "          31       0.00      0.00      0.00         1\n",
      "          32       0.00      0.00      0.00         1\n",
      "          33       0.00      0.00      0.00         1\n",
      "          35       0.00      0.00      0.00         1\n",
      "          38       0.00      0.00      0.00         1\n",
      "          40       0.00      0.00      0.00         1\n",
      "          42       0.00      0.00      0.00         1\n",
      "          45       0.00      0.00      0.00         1\n",
      "          53       0.00      0.00      0.00         3\n",
      "          54       0.00      0.00      0.00         1\n",
      "          55       0.00      0.00      0.00         1\n",
      "          56       0.00      0.00      0.00         3\n",
      "          57       0.00      0.00      0.00         1\n",
      "          58       0.00      0.00      0.00         1\n",
      "          61       0.00      0.00      0.00         1\n",
      "          64       0.00      0.00      0.00         2\n",
      "          66       0.00      0.00      0.00         1\n",
      "          68       0.00      0.00      0.00         2\n",
      "          71       0.00      0.00      0.00         1\n",
      "          79       0.00      0.00      0.00         2\n",
      "          82       0.00      0.00      0.00         1\n",
      "          83       0.00      0.00      0.00         2\n",
      "          89       0.00      0.00      0.00         3\n",
      "          90       0.00      0.00      0.00         1\n",
      "          91       0.00      0.00      0.00         1\n",
      "          93       0.00      0.00      0.00         1\n",
      "          95       0.00      0.00      0.00         1\n",
      "         100       0.00      0.00      0.00         2\n",
      "         101       0.00      0.00      0.00         1\n",
      "         103       0.00      0.00      0.00         2\n",
      "         104       0.00      0.00      0.00         1\n",
      "         108       0.00      0.00      0.00         1\n",
      "         110       0.08      0.33      0.12         3\n",
      "         111       0.00      0.00      0.00         3\n",
      "         112       0.00      0.00      0.00         1\n",
      "         115       0.00      0.00      0.00         1\n",
      "         116       0.00      0.00      0.00         1\n",
      "         121       0.00      0.00      0.00         1\n",
      "         122       0.00      0.00      0.00         3\n",
      "         124       0.00      0.00      0.00         2\n",
      "         127       0.00      0.00      0.00         1\n",
      "         135       0.00      0.00      0.00         1\n",
      "         139       0.00      0.00      0.00         6\n",
      "         143       0.00      0.00      0.00         2\n",
      "         145       0.00      0.00      0.00         2\n",
      "         152       1.00      1.00      1.00         1\n",
      "         159       0.00      0.00      0.00         1\n",
      "         162       0.00      0.00      0.00         1\n",
      "         163       0.00      0.00      0.00         1\n",
      "         167       0.00      0.00      0.00         1\n",
      "         169       0.00      0.00      0.00         1\n",
      "         172       0.10      1.00      0.18         8\n",
      "         173       0.00      0.00      0.00         1\n",
      "         175       0.00      0.00      0.00         1\n",
      "         176       0.00      0.00      0.00         1\n",
      "         178       0.00      0.00      0.00         1\n",
      "         180       0.00      0.00      0.00         1\n",
      "         182       0.00      0.00      0.00         1\n",
      "         187       0.00      0.00      0.00         2\n",
      "         191       0.00      0.00      0.00         1\n",
      "         196       0.00      0.00      0.00         1\n",
      "         199       0.00      0.00      0.00         1\n",
      "         201       0.00      0.00      0.00         1\n",
      "         203       0.00      0.00      0.00         1\n",
      "         208       0.00      0.00      0.00         1\n",
      "         211       0.00      0.00      0.00         2\n",
      "         214       0.12      0.67      0.20         9\n",
      "         220       0.00      0.00      0.00         1\n",
      "         224       0.00      0.00      0.00         1\n",
      "         227       0.00      0.00      0.00         1\n",
      "         232       0.00      0.00      0.00         1\n",
      "         234       0.00      0.00      0.00         1\n",
      "         240       0.00      0.00      0.00         2\n",
      "         242       0.00      0.00      0.00         1\n",
      "         243       0.00      0.00      0.00         2\n",
      "         246       0.00      0.00      0.00         2\n",
      "         250       0.00      0.00      0.00         1\n",
      "         252       0.00      0.00      0.00         1\n",
      "         253       0.00      0.00      0.00         1\n",
      "         257       0.00      0.00      0.00         1\n",
      "         264       0.00      0.00      0.00         1\n",
      "         269       0.00      0.00      0.00         1\n",
      "         271       0.00      0.00      0.00         1\n",
      "         278       0.00      0.00      0.00         1\n",
      "\n",
      "    accuracy                           0.11       147\n",
      "   macro avg       0.01      0.03      0.02       147\n",
      "weighted avg       0.02      0.11      0.03       147\n",
      "\n"
     ]
    },
    {
     "name": "stderr",
     "output_type": "stream",
     "text": [
      "d:\\Users\\abiha\\anaconda3\\Lib\\site-packages\\sklearn\\metrics\\_classification.py:1531: UndefinedMetricWarning: Precision is ill-defined and being set to 0.0 in labels with no predicted samples. Use `zero_division` parameter to control this behavior.\n",
      "  _warn_prf(average, modifier, f\"{metric.capitalize()} is\", len(result))\n",
      "d:\\Users\\abiha\\anaconda3\\Lib\\site-packages\\sklearn\\metrics\\_classification.py:1531: UndefinedMetricWarning: Precision is ill-defined and being set to 0.0 in labels with no predicted samples. Use `zero_division` parameter to control this behavior.\n",
      "  _warn_prf(average, modifier, f\"{metric.capitalize()} is\", len(result))\n",
      "d:\\Users\\abiha\\anaconda3\\Lib\\site-packages\\sklearn\\metrics\\_classification.py:1531: UndefinedMetricWarning: Precision is ill-defined and being set to 0.0 in labels with no predicted samples. Use `zero_division` parameter to control this behavior.\n",
      "  _warn_prf(average, modifier, f\"{metric.capitalize()} is\", len(result))\n"
     ]
    }
   ],
   "source": [
    "%time \n",
    "\n",
    "from sklearn.metrics import classification_report\n",
    "\n",
    "y_pred = model.predict(X_test)\n",
    "print(classification_report(y_test, y_pred))"
   ]
  },
  {
   "cell_type": "markdown",
   "id": "0803e680",
   "metadata": {},
   "source": [
    "# **8-Neural Network with Tensorflow/Keras**"
   ]
  },
  {
   "cell_type": "code",
   "execution_count": 41,
   "id": "c33538f0",
   "metadata": {},
   "outputs": [
    {
     "name": "stdout",
     "output_type": "stream",
     "text": [
      "CPU times: total: 0 ns\n",
      "Wall time: 0 ns\n"
     ]
    }
   ],
   "source": [
    "%time\n",
    "\n",
    "## Preprocess the data \n",
    "\n",
    "#Drop nulls (if any)\n",
    "df.dropna(inplace=True)\n",
    "\n",
    "# Label encode the sentiment \n",
    "label_encoder = LabelEncoder()\n",
    "df['Sentiment'] = label_encoder.fit_transform(df['Sentiment'])\n",
    "\n",
    "# Text column \n",
    "text_data = df['Text']  \n",
    "labels = df['Sentiment']\n",
    "\n",
    "# Convert text to TF-IDF features (this turns words into numbers)\n",
    "tfidf = TfidfVectorizer(max_features=5000)  \n",
    "X = tfidf.fit_transform(text_data).toarray()\n",
    "\n",
    "# Labels\n",
    "y = labels\n",
    "\n",
    "# Train-test split\n",
    "X_train, X_test, y_train, y_test = train_test_split(X, y, test_size=0.2, random_state=42)\n",
    "\n",
    "\n",
    "                                                                    \n",
    "\n"
   ]
  },
  {
   "cell_type": "markdown",
   "id": "a68d23c8",
   "metadata": {},
   "source": [
    "#### 8.1- Build the Neural Network Model"
   ]
  },
  {
   "cell_type": "code",
   "execution_count": 43,
   "id": "784a8938",
   "metadata": {},
   "outputs": [
    {
     "name": "stdout",
     "output_type": "stream",
     "text": [
      "CPU times: total: 0 ns\n",
      "Wall time: 0 ns\n"
     ]
    },
    {
     "name": "stderr",
     "output_type": "stream",
     "text": [
      "d:\\Users\\abiha\\anaconda3\\Lib\\site-packages\\keras\\src\\layers\\core\\dense.py:93: UserWarning: Do not pass an `input_shape`/`input_dim` argument to a layer. When using Sequential models, prefer using an `Input(shape)` object as the first layer in the model instead.\n",
      "  super().__init__(activity_regularizer=activity_regularizer, **kwargs)\n"
     ]
    }
   ],
   "source": [
    "%time \n",
    "\n",
    "model = tf.keras.Sequential([\n",
    "    tf.keras.layers.Dense(128, activation='relu', input_shape=(X_train.shape[1],)),\n",
    "    tf.keras.layers.Dense(64, activation='relu'),\n",
    "    tf.keras.layers.Dense(1, activation='sigmoid') \n",
    "])"
   ]
  },
  {
   "cell_type": "markdown",
   "id": "2e9e6a02",
   "metadata": {},
   "source": [
    "#### 8.2-Compile the Model "
   ]
  },
  {
   "cell_type": "code",
   "execution_count": 44,
   "id": "129e1e47",
   "metadata": {},
   "outputs": [
    {
     "name": "stdout",
     "output_type": "stream",
     "text": [
      "CPU times: total: 0 ns\n",
      "Wall time: 0 ns\n"
     ]
    }
   ],
   "source": [
    "%time \n",
    "\n",
    "model.compile(optimizer='adam',\n",
    "              loss='binary_crossentropy',  \n",
    "              metrics=['accuracy'])"
   ]
  },
  {
   "cell_type": "markdown",
   "id": "2f16464a",
   "metadata": {},
   "source": [
    "#### 8.3- Train the Model "
   ]
  },
  {
   "cell_type": "code",
   "execution_count": 45,
   "id": "25f12ac2",
   "metadata": {},
   "outputs": [
    {
     "name": "stdout",
     "output_type": "stream",
     "text": [
      "CPU times: total: 0 ns\n",
      "Wall time: 0 ns\n",
      "Epoch 1/20\n",
      "\u001b[1m19/19\u001b[0m \u001b[32m━━━━━━━━━━━━━━━━━━━━\u001b[0m\u001b[37m\u001b[0m \u001b[1m3s\u001b[0m 36ms/step - accuracy: 0.0047 - loss: -18.8660 - val_accuracy: 0.0000e+00 - val_loss: -92.7156\n",
      "Epoch 2/20\n",
      "\u001b[1m19/19\u001b[0m \u001b[32m━━━━━━━━━━━━━━━━━━━━\u001b[0m\u001b[37m\u001b[0m \u001b[1m0s\u001b[0m 17ms/step - accuracy: 0.0082 - loss: -166.1302 - val_accuracy: 0.0000e+00 - val_loss: -391.0942\n",
      "Epoch 3/20\n",
      "\u001b[1m19/19\u001b[0m \u001b[32m━━━━━━━━━━━━━━━━━━━━\u001b[0m\u001b[37m\u001b[0m \u001b[1m0s\u001b[0m 17ms/step - accuracy: 0.0074 - loss: -635.7294 - val_accuracy: 0.0000e+00 - val_loss: -1144.8760\n",
      "Epoch 4/20\n",
      "\u001b[1m19/19\u001b[0m \u001b[32m━━━━━━━━━━━━━━━━━━━━\u001b[0m\u001b[37m\u001b[0m \u001b[1m0s\u001b[0m 15ms/step - accuracy: 0.0122 - loss: -1731.7546 - val_accuracy: 0.0000e+00 - val_loss: -2662.4543\n",
      "Epoch 5/20\n",
      "\u001b[1m19/19\u001b[0m \u001b[32m━━━━━━━━━━━━━━━━━━━━\u001b[0m\u001b[37m\u001b[0m \u001b[1m0s\u001b[0m 16ms/step - accuracy: 0.0049 - loss: -3815.0017 - val_accuracy: 0.0000e+00 - val_loss: -5300.7280\n",
      "Epoch 6/20\n",
      "\u001b[1m19/19\u001b[0m \u001b[32m━━━━━━━━━━━━━━━━━━━━\u001b[0m\u001b[37m\u001b[0m \u001b[1m0s\u001b[0m 17ms/step - accuracy: 0.0054 - loss: -7372.5278 - val_accuracy: 0.0000e+00 - val_loss: -9459.0205\n",
      "Epoch 7/20\n",
      "\u001b[1m19/19\u001b[0m \u001b[32m━━━━━━━━━━━━━━━━━━━━\u001b[0m\u001b[37m\u001b[0m \u001b[1m0s\u001b[0m 18ms/step - accuracy: 0.0122 - loss: -13011.9521 - val_accuracy: 0.0000e+00 - val_loss: -15553.9424\n",
      "Epoch 8/20\n",
      "\u001b[1m19/19\u001b[0m \u001b[32m━━━━━━━━━━━━━━━━━━━━\u001b[0m\u001b[37m\u001b[0m \u001b[1m0s\u001b[0m 17ms/step - accuracy: 0.0055 - loss: -20864.1387 - val_accuracy: 0.0000e+00 - val_loss: -24048.6523\n",
      "Epoch 9/20\n",
      "\u001b[1m19/19\u001b[0m \u001b[32m━━━━━━━━━━━━━━━━━━━━\u001b[0m\u001b[37m\u001b[0m \u001b[1m0s\u001b[0m 18ms/step - accuracy: 0.0096 - loss: -32004.9297 - val_accuracy: 0.0000e+00 - val_loss: -35179.7578\n",
      "Epoch 10/20\n",
      "\u001b[1m19/19\u001b[0m \u001b[32m━━━━━━━━━━━━━━━━━━━━\u001b[0m\u001b[37m\u001b[0m \u001b[1m0s\u001b[0m 21ms/step - accuracy: 0.0102 - loss: -45670.2930 - val_accuracy: 0.0000e+00 - val_loss: -49588.6250\n",
      "Epoch 11/20\n",
      "\u001b[1m19/19\u001b[0m \u001b[32m━━━━━━━━━━━━━━━━━━━━\u001b[0m\u001b[37m\u001b[0m \u001b[1m1s\u001b[0m 28ms/step - accuracy: 0.0117 - loss: -63672.2109 - val_accuracy: 0.0000e+00 - val_loss: -67733.6719\n",
      "Epoch 12/20\n",
      "\u001b[1m19/19\u001b[0m \u001b[32m━━━━━━━━━━━━━━━━━━━━\u001b[0m\u001b[37m\u001b[0m \u001b[1m1s\u001b[0m 32ms/step - accuracy: 0.0134 - loss: -88547.8906 - val_accuracy: 0.0000e+00 - val_loss: -89942.0391\n",
      "Epoch 13/20\n",
      "\u001b[1m19/19\u001b[0m \u001b[32m━━━━━━━━━━━━━━━━━━━━\u001b[0m\u001b[37m\u001b[0m \u001b[1m1s\u001b[0m 27ms/step - accuracy: 0.0073 - loss: -113855.4219 - val_accuracy: 0.0000e+00 - val_loss: -116528.1328\n",
      "Epoch 14/20\n",
      "\u001b[1m19/19\u001b[0m \u001b[32m━━━━━━━━━━━━━━━━━━━━\u001b[0m\u001b[37m\u001b[0m \u001b[1m1s\u001b[0m 30ms/step - accuracy: 0.0053 - loss: -149033.1875 - val_accuracy: 0.0000e+00 - val_loss: -148232.9688\n",
      "Epoch 15/20\n",
      "\u001b[1m19/19\u001b[0m \u001b[32m━━━━━━━━━━━━━━━━━━━━\u001b[0m\u001b[37m\u001b[0m \u001b[1m0s\u001b[0m 12ms/step - accuracy: 0.0069 - loss: -183265.5469 - val_accuracy: 0.0000e+00 - val_loss: -185140.9844\n",
      "Epoch 16/20\n",
      "\u001b[1m19/19\u001b[0m \u001b[32m━━━━━━━━━━━━━━━━━━━━\u001b[0m\u001b[37m\u001b[0m \u001b[1m0s\u001b[0m 16ms/step - accuracy: 0.0058 - loss: -241125.0156 - val_accuracy: 0.0000e+00 - val_loss: -228012.9844\n",
      "Epoch 17/20\n",
      "\u001b[1m19/19\u001b[0m \u001b[32m━━━━━━━━━━━━━━━━━━━━\u001b[0m\u001b[37m\u001b[0m \u001b[1m0s\u001b[0m 12ms/step - accuracy: 0.0082 - loss: -284698.0000 - val_accuracy: 0.0000e+00 - val_loss: -276589.5312\n",
      "Epoch 18/20\n",
      "\u001b[1m19/19\u001b[0m \u001b[32m━━━━━━━━━━━━━━━━━━━━\u001b[0m\u001b[37m\u001b[0m \u001b[1m0s\u001b[0m 12ms/step - accuracy: 0.0100 - loss: -349122.8125 - val_accuracy: 0.0000e+00 - val_loss: -331515.4062\n",
      "Epoch 19/20\n",
      "\u001b[1m19/19\u001b[0m \u001b[32m━━━━━━━━━━━━━━━━━━━━\u001b[0m\u001b[37m\u001b[0m \u001b[1m1s\u001b[0m 26ms/step - accuracy: 0.0166 - loss: -412143.6562 - val_accuracy: 0.0000e+00 - val_loss: -393573.5938\n",
      "Epoch 20/20\n",
      "\u001b[1m19/19\u001b[0m \u001b[32m━━━━━━━━━━━━━━━━━━━━\u001b[0m\u001b[37m\u001b[0m \u001b[1m1s\u001b[0m 30ms/step - accuracy: 0.0068 - loss: -491624.8438 - val_accuracy: 0.0000e+00 - val_loss: -463101.7188\n"
     ]
    }
   ],
   "source": [
    "%time \n",
    "\n",
    "history = model.fit(X_train, y_train, epochs=20, batch_size=32,\n",
    "                    validation_data=(X_test, y_test))\n"
   ]
  },
  {
   "cell_type": "markdown",
   "id": "b945cc05",
   "metadata": {},
   "source": [
    "#### 8.4- Visulaizing the Loss and Accuracy "
   ]
  },
  {
   "cell_type": "code",
   "execution_count": 46,
   "id": "39489319",
   "metadata": {},
   "outputs": [
    {
     "name": "stdout",
     "output_type": "stream",
     "text": [
      "CPU times: total: 0 ns\n",
      "Wall time: 0 ns\n"
     ]
    },
    {
     "data": {
      "image/png": "[encoded data removed]",
      "text/plain": [
       "<Figure size 1200x500 with 2 Axes>"
      ]
     },
     "metadata": {},
     "output_type": "display_data"
    }
   ],
   "source": [
    "%time \n",
    "\n",
    "plt.figure(figsize=(12, 5))\n",
    "\n",
    "# Accuracy plot\n",
    "plt.subplot(1, 2, 1)\n",
    "plt.plot(history.history['accuracy'], label='Train Accuracy')\n",
    "plt.plot(history.history['val_accuracy'], label='Val Accuracy')\n",
    "plt.title('Model Accuracy')\n",
    "plt.xlabel('Epochs')\n",
    "plt.ylabel('Accuracy')\n",
    "plt.legend()\n",
    "\n",
    "# Loss plot\n",
    "plt.subplot(1, 2, 2)\n",
    "plt.plot(history.history['loss'], label='Train Loss')\n",
    "plt.plot(history.history['val_loss'], label='Val Loss')\n",
    "plt.title('Model Loss')\n",
    "plt.xlabel('Epochs')\n",
    "plt.ylabel('Loss')\n",
    "plt.legend()\n",
    "\n",
    "plt.tight_layout()\n",
    "plt.show()"
   ]
  },
  {
   "cell_type": "markdown",
   "id": "d2f34e33",
   "metadata": {},
   "source": [
    "#### 8.5- Evaluate the Model "
   ]
  },
  {
   "cell_type": "code",
   "execution_count": 47,
   "id": "36af6e34",
   "metadata": {},
   "outputs": [
    {
     "name": "stdout",
     "output_type": "stream",
     "text": [
      "CPU times: total: 0 ns\n",
      "Wall time: 0 ns\n",
      "\u001b[1m5/5\u001b[0m \u001b[32m━━━━━━━━━━━━━━━━━━━━\u001b[0m\u001b[37m\u001b[0m \u001b[1m0s\u001b[0m 12ms/step - accuracy: 0.0000e+00 - loss: -475362.9375\n",
      "Test Accuracy: 0.0000\n"
     ]
    }
   ],
   "source": [
    "%time\n",
    "\n",
    "test_loss, test_accuracy = model.evaluate(X_test, y_test)\n",
    "print(f\"Test Accuracy: {test_accuracy:.4f}\")"
   ]
  },
  {
   "cell_type": "markdown",
   "id": "f9e52176",
   "metadata": {},
   "source": [
    "#### 8.6-Tune Hyperparameters "
   ]
  },
  {
   "cell_type": "code",
   "execution_count": 49,
   "id": "e8a075f1",
   "metadata": {},
   "outputs": [
    {
     "name": "stdout",
     "output_type": "stream",
     "text": [
      "CPU times: total: 0 ns\n",
      "Wall time: 997 μs\n",
      "Epoch 1/20\n",
      "\u001b[1m37/37\u001b[0m \u001b[32m━━━━━━━━━━━━━━━━━━━━\u001b[0m\u001b[37m\u001b[0m \u001b[1m3s\u001b[0m 27ms/step - accuracy: 0.0040 - loss: -547641.1875 - val_accuracy: 0.0000e+00 - val_loss: -497563.8750\n",
      "Epoch 2/20\n",
      "\u001b[1m37/37\u001b[0m \u001b[32m━━━━━━━━━━━━━━━━━━━━\u001b[0m\u001b[37m\u001b[0m \u001b[1m1s\u001b[0m 12ms/step - accuracy: 0.0052 - loss: -607652.6250 - val_accuracy: 0.0000e+00 - val_loss: -534408.9375\n",
      "Epoch 3/20\n",
      "\u001b[1m37/37\u001b[0m \u001b[32m━━━━━━━━━━━━━━━━━━━━\u001b[0m\u001b[37m\u001b[0m \u001b[1m1s\u001b[0m 13ms/step - accuracy: 0.0117 - loss: -649633.6250 - val_accuracy: 0.0000e+00 - val_loss: -573660.6250\n",
      "Epoch 4/20\n",
      "\u001b[1m37/37\u001b[0m \u001b[32m━━━━━━━━━━━━━━━━━━━━\u001b[0m\u001b[37m\u001b[0m \u001b[1m1s\u001b[0m 13ms/step - accuracy: 0.0077 - loss: -717915.0625 - val_accuracy: 0.0000e+00 - val_loss: -615982.0000\n",
      "Epoch 5/20\n",
      "\u001b[1m37/37\u001b[0m \u001b[32m━━━━━━━━━━━━━━━━━━━━\u001b[0m\u001b[37m\u001b[0m \u001b[1m1s\u001b[0m 14ms/step - accuracy: 0.0048 - loss: -764637.0000 - val_accuracy: 0.0000e+00 - val_loss: -661152.6875\n",
      "Epoch 6/20\n",
      "\u001b[1m37/37\u001b[0m \u001b[32m━━━━━━━━━━━━━━━━━━━━\u001b[0m\u001b[37m\u001b[0m \u001b[1m1s\u001b[0m 10ms/step - accuracy: 0.0039 - loss: -795391.6875 - val_accuracy: 0.0000e+00 - val_loss: -708945.1875\n",
      "Epoch 7/20\n",
      "\u001b[1m37/37\u001b[0m \u001b[32m━━━━━━━━━━━━━━━━━━━━\u001b[0m\u001b[37m\u001b[0m \u001b[1m1s\u001b[0m 13ms/step - accuracy: 0.0060 - loss: -855633.1250 - val_accuracy: 0.0000e+00 - val_loss: -760871.8750\n",
      "Epoch 8/20\n",
      "\u001b[1m37/37\u001b[0m \u001b[32m━━━━━━━━━━━━━━━━━━━━\u001b[0m\u001b[37m\u001b[0m \u001b[1m1s\u001b[0m 19ms/step - accuracy: 0.0145 - loss: -907283.5625 - val_accuracy: 0.0000e+00 - val_loss: -815734.4375\n",
      "Epoch 9/20\n",
      "\u001b[1m37/37\u001b[0m \u001b[32m━━━━━━━━━━━━━━━━━━━━\u001b[0m\u001b[37m\u001b[0m \u001b[1m1s\u001b[0m 18ms/step - accuracy: 0.0128 - loss: -1040272.8125 - val_accuracy: 0.0000e+00 - val_loss: -875141.2500\n",
      "Epoch 10/20\n",
      "\u001b[1m37/37\u001b[0m \u001b[32m━━━━━━━━━━━━━━━━━━━━\u001b[0m\u001b[37m\u001b[0m \u001b[1m0s\u001b[0m 10ms/step - accuracy: 0.0095 - loss: -1087854.8750 - val_accuracy: 0.0000e+00 - val_loss: -936845.6250\n",
      "Epoch 11/20\n",
      "\u001b[1m37/37\u001b[0m \u001b[32m━━━━━━━━━━━━━━━━━━━━\u001b[0m\u001b[37m\u001b[0m \u001b[1m0s\u001b[0m 12ms/step - accuracy: 0.0121 - loss: -1143135.3750 - val_accuracy: 0.0000e+00 - val_loss: -1003114.5625\n",
      "Epoch 12/20\n",
      "\u001b[1m37/37\u001b[0m \u001b[32m━━━━━━━━━━━━━━━━━━━━\u001b[0m\u001b[37m\u001b[0m \u001b[1m1s\u001b[0m 13ms/step - accuracy: 0.0155 - loss: -1183443.2500 - val_accuracy: 0.0000e+00 - val_loss: -1073651.2500\n",
      "Epoch 13/20\n",
      "\u001b[1m37/37\u001b[0m \u001b[32m━━━━━━━━━━━━━━━━━━━━\u001b[0m\u001b[37m\u001b[0m \u001b[1m1s\u001b[0m 15ms/step - accuracy: 0.0059 - loss: -1346735.6250 - val_accuracy: 0.0000e+00 - val_loss: -1149306.7500\n",
      "Epoch 14/20\n",
      "\u001b[1m37/37\u001b[0m \u001b[32m━━━━━━━━━━━━━━━━━━━━\u001b[0m\u001b[37m\u001b[0m \u001b[1m1s\u001b[0m 19ms/step - accuracy: 0.0042 - loss: -1450061.2500 - val_accuracy: 0.0000e+00 - val_loss: -1228574.7500\n",
      "Epoch 15/20\n",
      "\u001b[1m37/37\u001b[0m \u001b[32m━━━━━━━━━━━━━━━━━━━━\u001b[0m\u001b[37m\u001b[0m \u001b[1m0s\u001b[0m 11ms/step - accuracy: 0.0103 - loss: -1454823.7500 - val_accuracy: 0.0000e+00 - val_loss: -1311853.5000\n",
      "Epoch 16/20\n",
      "\u001b[1m37/37\u001b[0m \u001b[32m━━━━━━━━━━━━━━━━━━━━\u001b[0m\u001b[37m\u001b[0m \u001b[1m1s\u001b[0m 14ms/step - accuracy: 0.0049 - loss: -1545138.6250 - val_accuracy: 0.0000e+00 - val_loss: -1401193.6250\n",
      "Epoch 17/20\n",
      "\u001b[1m37/37\u001b[0m \u001b[32m━━━━━━━━━━━━━━━━━━━━\u001b[0m\u001b[37m\u001b[0m \u001b[1m1s\u001b[0m 17ms/step - accuracy: 0.0051 - loss: -1695193.7500 - val_accuracy: 0.0000e+00 - val_loss: -1495371.3750\n",
      "Epoch 18/20\n",
      "\u001b[1m37/37\u001b[0m \u001b[32m━━━━━━━━━━━━━━━━━━━━\u001b[0m\u001b[37m\u001b[0m \u001b[1m1s\u001b[0m 19ms/step - accuracy: 0.0025 - loss: -1893891.0000 - val_accuracy: 0.0000e+00 - val_loss: -1595476.8750\n",
      "Epoch 19/20\n",
      "\u001b[1m37/37\u001b[0m \u001b[32m━━━━━━━━━━━━━━━━━━━━\u001b[0m\u001b[37m\u001b[0m \u001b[1m1s\u001b[0m 13ms/step - accuracy: 0.0058 - loss: -1949844.1250 - val_accuracy: 0.0000e+00 - val_loss: -1698478.6250\n",
      "Epoch 20/20\n",
      "\u001b[1m37/37\u001b[0m \u001b[32m━━━━━━━━━━━━━━━━━━━━\u001b[0m\u001b[37m\u001b[0m \u001b[1m1s\u001b[0m 16ms/step - accuracy: 0.0164 - loss: -2135733.0000 - val_accuracy: 0.0000e+00 - val_loss: -1809686.5000\n"
     ]
    }
   ],
   "source": [
    "%time \n",
    "\n",
    "# New optimizer with custom learning rate\n",
    "optimizer = tf.keras.optimizers.Adam(learning_rate=0.0005)\n",
    "\n",
    "# Compile again with new optimizer\n",
    "model.compile(optimizer=optimizer,\n",
    "              loss='binary_crossentropy',\n",
    "              metrics=['accuracy'])\n",
    "\n",
    "# Retrain with different batch size\n",
    "history = model.fit(X_train, y_train, epochs=20, batch_size=16,\n",
    "                    validation_data=(X_test, y_test))"
   ]
  },
  {
   "cell_type": "markdown",
   "id": "5655b678",
   "metadata": {},
   "source": [
    "#### 8.7- Final Evaluation "
   ]
  },
  {
   "cell_type": "code",
   "execution_count": 50,
   "id": "8606e512",
   "metadata": {},
   "outputs": [
    {
     "name": "stdout",
     "output_type": "stream",
     "text": [
      "CPU times: total: 0 ns\n",
      "Wall time: 0 ns\n",
      "\u001b[1m5/5\u001b[0m \u001b[32m━━━━━━━━━━━━━━━━━━━━\u001b[0m\u001b[37m\u001b[0m \u001b[1m0s\u001b[0m 20ms/step - accuracy: 0.0000e+00 - loss: -1857820.7500\n",
      "Final Test Accuracy: 0.0000\n"
     ]
    }
   ],
   "source": [
    "%time \n",
    "\n",
    "# Final test performance\n",
    "loss, accuracy = model.evaluate(X_test, y_test)\n",
    "print(f\"Final Test Accuracy: {accuracy:.4f}\")"
   ]
  },
  {
   "cell_type": "markdown",
   "id": "0c4c5e05",
   "metadata": {},
   "source": [
    "# **Conclusion**"
   ]
  },
  {
   "cell_type": "markdown",
   "id": "92a4bd52",
   "metadata": {},
   "source": [
    "#### In this sentiment analysis project, I explored and implemented a full machine learning pipeline — from data preprocessing to advanced classification using neural networks, demonstrating a strong understanding of data science workflows and deep learning principles.\n",
    "\n",
    "#### The dataset used contained text-based sentiment data, which required careful preprocessing using NLP techniques. I transformed the raw textual data into numerical representations using TF-IDF vectorization, enabling it to be used as input for machine learning models.\n",
    "\n",
    "#### Following the preprocessing stage, I designed and trained a feedforward neural network using TensorFlow and Keras.Training was performed using backpropagation. Key hyperparameters such as learning rate, batch size, and number of epochs were tuned iteratively to optimize model performance.\n",
    "\n",
    "#### Throughout the training process, I monitored the model’s performance using accuracy and loss curves, ensuring that the network was neither underfitting nor overfitting. The final model achieved a promising accuracy score on the test set, successfully classifying sentiments into their respective categories (e.g., Positive or Negative).\n",
    "\n",
    "#### This project demonstrates how deep learning models can be effectively applied to structured text data, offering valuable insights into customer or user sentiment."
   ]
  }
 ],
 "metadata": {
  "kernelspec": {
   "display_name": "base",
   "language": "python",
   "name": "python3"
  },
  "language_info": {
   "codemirror_mode": {
    "name": "ipython",
    "version": 3
   },
   "file_extension": ".py",
   "mimetype": "text/x-python",
   "name": "python",
   "nbconvert_exporter": "python",
   "pygments_lexer": "ipython3",
   "version": "3.12.7"
  }
 },
 "nbformat": 4,
 "nbformat_minor": 5
}
